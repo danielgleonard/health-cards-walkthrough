{
 "cells": [
  {
   "cell_type": "markdown",
   "metadata": {},
   "source": [
    "# SMART Health Cards\n",
    "\n",
    "This notebook is designed to give an overview of [SMART Health Cards Framework](https://smarthealth.cards/) and how it works.\n"
   ]
  },
  {
   "cell_type": "markdown",
   "metadata": {},
   "source": [
    "### The FHIR Bundle\n",
    "\n",
    "A SMART Health Card is composed of a [W3C Verifiable Credential](https://w3c.github.io/vc-data-model/), [encoded as a JWT](https://w3c.github.io/vc-data-model/#jwt-encoding), with a Credential Subject that contains the FHIR version and a FHIR Bundle (See [Modeling W3C Verifiable Credentials in FHIR](https://smarthealth.cards/credential-modeling/).\n",
    "\n",
    "The FHIR Bundle contains the health care information.\n",
    "\n",
    "Let's assume we have the below FHIR Bundle ([Example 0](https://smarthealth.cards/examples/example-00-a-fhirBundle.json) at the time of writing). This FHIR Bundle could be produced in a number of ways, but for now let's imagine that the patient, John B. Anyperson, has just received his second COVID-19 vaccination shot and the healthcare worker entered his information into their system which produced the below in their system."
   ]
  },
  {
   "cell_type": "markdown",
   "metadata": {},
   "source": [
    "## Walkthrough\n",
    "\n",
    "The high level outline is as follows:\n",
    "* FHIR Bundle is created\n",
    "* FHIR Bundle is minified\n",
    "* SMART Health Card is created from FHIR Bundle\n",
    "* SMART Health Card is encoded as a JWS\n",
    "* Patient Retrieves the SMART Health Cards via:\n",
    "  * File Download\n",
    "  * QR Code\n",
    "  * FHIR API"
   ]
  },
  {
   "cell_type": "code",
   "execution_count": 92,
   "metadata": {},
   "outputs": [],
   "source": [
    "import json\n",
    "from datetime import datetime\n",
    "import zlib\n",
    "import math\n",
    "\n",
    "from pyzbar.pyzbar import decode\n",
    "from PIL import Image\n",
    "import qrcode\n",
    "from jwcrypto import jwk as jwk_crypto\n",
    "from jose import jws, jwk\n",
    "from jose.constants import ALGORITHMS\n",
    "\n"
   ]
  },
  {
   "cell_type": "code",
   "execution_count": 93,
   "metadata": {},
   "outputs": [],
   "source": [
    "\n",
    "fhir_bundle = {\n",
    "  \"resourceType\": \"Bundle\",\n",
    "  \"type\": \"collection\",\n",
    "  \"entry\": [\n",
    "    {\n",
    "      \"fullUrl\": \"resource:0\",\n",
    "      \"resource\": {\n",
    "        \"resourceType\": \"Patient\",\n",
    "        \"name\": [\n",
    "          {\n",
    "            \"family\": \"Henry\",\n",
    "            \"given\": [\n",
    "              \"Jefferson\",\n",
    "              \"V.\"\n",
    "            ]\n",
    "          }\n",
    "        ],\n",
    "        \"birthDate\": \"1997-10-11\"\n",
    "      }\n",
    "    },\n",
    "    {\n",
    "      \"fullUrl\": \"resource:1\",\n",
    "      \"resource\": {\n",
    "        \"resourceType\": \"Immunization\",\n",
    "        \"status\": \"completed\",\n",
    "        \"vaccineCode\": {\n",
    "          \"coding\": [\n",
    "            {\n",
    "              \"system\": \"http://hl7.org/fhir/sid/cvx\",\n",
    "              \"code\": \"137\",\n",
    "              \"display\": \"Huge Penis Vaccine\",\n",
    "              \"definition\": \"A vaccine administered to prevent death from exceptionally large penile growth\",\n",
    "              \"comments\": \"Extremely rarely used\"\n",
    "            }\n",
    "          ]\n",
    "        },\n",
    "        \"patient\": {\n",
    "          \"reference\": \"resource:0\"\n",
    "        },\n",
    "        \"occurrenceDateTime\": \"2021-12-17\",\n",
    "        \"performer\": [\n",
    "          {\n",
    "            \"actor\": {\n",
    "              \"display\": \"Intra Gaming Vaccination Program\"\n",
    "            }\n",
    "          }\n",
    "        ],\n",
    "        \"lotNumber\": \"0042069\"\n",
    "      }\n",
    "    }\n",
    "  ]\n",
    "}\n",
    "# print(fhir_bundle)"
   ]
  },
  {
   "cell_type": "markdown",
   "metadata": {},
   "source": [
    "A couple things to note in the above JSON. This is a Bundle that contains 3 resources: one for the patient, one for the first vaccination, and another for the second vaccination. This Bundle conforms to the requirements laid out in [SMART Health Cards: Vaccination & Testing Implementation Guide](http://build.fhir.org/ig/dvci/vaccine-credential-ig/branches/main/) which defines what resources should be included in the Health Card. Specifically, this is an example of [Vaccine Credential Bundle - Data Minimization](http://build.fhir.org/ig/dvci/vaccine-credential-ig/branches/main/StructureDefinition-vaccine-credential-bundle-dm.html). We'll talk about what \"Data Minimization\" means in a second.\n",
    "\n",
    "Now let's create the \"Expanded Health Card\"."
   ]
  },
  {
   "cell_type": "markdown",
   "metadata": {},
   "source": [
    "### Expanded Health Card\n",
    "\n",
    "The Expanded Health Card shows what the Health Card looks like before it is minified and serialized using the compact JWS serialization.\n",
    "\n",
    "[Health Cards are encoded as Compact Serialization JSON Web Signatures (JWS)](https://smarthealth.cards/#health-cards-are-encoded-as-compact-serialization-json-web-signatures-jws) and [Modeling W3C Verifiable Credentials in FHIR](https://smarthealth.cards/credential-modeling/) cover this in more detail.\n",
    "\n",
    "Before we get into the details it's important to note that some of the VC properties are mapped to standard JWT fields when using the [JWT encoding](https://w3c.github.io/vc-data-model/#jwt-encoding) (which we are). These include the `iss` and `nbf` fields.\n",
    "\n",
    "Below shows the expanded Health Card for the example:"
   ]
  },
  {
   "cell_type": "code",
   "execution_count": 94,
   "metadata": {},
   "outputs": [
    {
     "name": "stdout",
     "output_type": "stream",
     "text": [
      "{'iss': 'https://vaccination.incel.us/', 'nbf': 1641013400.689473, 'vc': {'@context': ['https://www.w3.org/2018/credentials/v1'], 'type': ['VerifiableCredential', 'https://smarthealth.cards#health-card', 'https://smarthealth.cards#immunization', 'https://smarthealth.cards#covid19'], 'credentialSubject': {'fhirVersion': '4.0.1', 'fhirBundle': {'resourceType': 'Bundle', 'type': 'collection', 'entry': [{'fullUrl': 'resource:0', 'resource': {'resourceType': 'Patient', 'name': [{'family': 'Henry', 'given': ['Jefferson', 'V.']}], 'birthDate': '1997-10-11'}}, {'fullUrl': 'resource:1', 'resource': {'resourceType': 'Immunization', 'status': 'completed', 'vaccineCode': {'coding': [{'system': 'http://hl7.org/fhir/sid/cvx', 'code': '137', 'display': 'Huge Penis Vaccine', 'definition': 'A vaccine administered to prevent death from exceptionally large penile growth', 'comments': 'Extremely rarely used'}]}, 'patient': {'reference': 'resource:0'}, 'occurrenceDateTime': '2021-12-17', 'performer': [{'actor': {'display': 'Intra Gaming Vaccination Program'}}], 'lotNumber': '0042069'}}]}}}}\n"
     ]
    }
   ],
   "source": [
    "expanded_health_card = {\n",
    "  \"iss\": \"https://vaccination.incel.us/\",\n",
    "  \"nbf\": datetime.utcnow().timestamp(),\n",
    "  \"vc\": {\n",
    "    \"@context\": [\n",
    "      \"https://www.w3.org/2018/credentials/v1\"\n",
    "    ],\n",
    "    \"type\": [\n",
    "      \"VerifiableCredential\",\n",
    "      \"https://smarthealth.cards#health-card\",\n",
    "      \"https://smarthealth.cards#immunization\",\n",
    "      \"https://smarthealth.cards#covid19\"\n",
    "\n",
    "    ],\n",
    "    \"credentialSubject\": {\n",
    "        \"fhirVersion\": \"4.0.1\",\n",
    "        \"fhirBundle\": fhir_bundle\n",
    "    }\n",
    "  }\n",
    "}\n",
    "print(expanded_health_card)"
   ]
  },
  {
   "cell_type": "markdown",
   "metadata": {},
   "source": [
    "Let's talk about the three root fields:\n",
    "\n",
    "`iss` - This represents the [Issuer](https://w3c.github.io/vc-data-model/#issuer)\n",
    "  * Note this property is represented by `iss` according to the [JWT Encoding Rules](https://w3c.github.io/vc-data-model/#jwt-encoding)\n",
    "\n",
    "`nbf` - This represents the [IssuanceDate](https://w3c.github.io/vc-data-model/#issuance-date)\n",
    "  * Note this property is represented by `nbf`.\n",
    "\n",
    "`vc` - This represents the VC claim minus all the unmapped fields (`iss` and `nbf`)\n",
    "\n",
    "\n",
    "TODO: Fill out the rest of these properties"
   ]
  },
  {
   "cell_type": "markdown",
   "metadata": {},
   "source": [
    "### Health Cards are Small\n",
    "\n",
    "SMART Health Cards can be issued on pieces of paper via QR Codes. This introduces some unique size constraints in order to keep the number and size of QR codes manageable. When using and applying SMART Health Cards, it's important to keep them small.\n",
    "\n",
    "The SMART Health Card spec requires that [the JWS payload is minified and compressed](https://smarthealth.cards/#health-cards-are-small) in order to reduce payload size.\n",
    "\n",
    "SMART Health Cards are designed to be be atomic and shared as a whole. Information within the Health Card cannot be removed without affecting the verifiability of the Health Card. This imposes a privacy challenge when too much information is included in a single Health Card.\n",
    "\n",
    "The \"Data Minimization\" profiles in the IG are designed to address these size and privacy concerns by ensuring the FHIR profiles only require the minimal set of information to achieve the desired results.\n",
    "\n",
    "Below the JWS Payload (i.e. the \"Expanded Health Card\") is compressed according to the spec:"
   ]
  },
  {
   "cell_type": "code",
   "execution_count": 95,
   "metadata": {},
   "outputs": [
    {
     "name": "stdout",
     "output_type": "stream",
     "text": [
      "{\"iss\":\"https://vaccination.incel.us/\",\"nbf\":1641013400.689473,\"vc\":{\"@context\":[\"https://www.w3.org/2018/credentials/v1\"],\"type\":[\"VerifiableCredential\",\"https://smarthealth.cards#health-card\",\"https://smarthealth.cards#immunization\",\"https://smarthealth.cards#covid19\"],\"credentialSubject\":{\"fhirVersion\":\"4.0.1\",\"fhirBundle\":{\"resourceType\":\"Bundle\",\"type\":\"collection\",\"entry\":[{\"fullUrl\":\"resource:0\",\"resource\":{\"resourceType\":\"Patient\",\"name\":[{\"family\":\"Henry\",\"given\":[\"Jefferson\",\"V.\"]}],\"birthDate\":\"1997-10-11\"}},{\"fullUrl\":\"resource:1\",\"resource\":{\"resourceType\":\"Immunization\",\"status\":\"completed\",\"vaccineCode\":{\"coding\":[{\"system\":\"http://hl7.org/fhir/sid/cvx\",\"code\":\"137\",\"display\":\"Huge Penis Vaccine\",\"definition\":\"A vaccine administered to prevent death from exceptionally large penile growth\",\"comments\":\"Extremely rarely used\"}]},\"patient\":{\"reference\":\"resource:0\"},\"occurrenceDateTime\":\"2021-12-17\",\"performer\":[{\"actor\":{\"display\":\"Intra Gaming Vaccination Program\"}}],\"lotNumber\":\"0042069\"}}]}}}}\n"
     ]
    }
   ],
   "source": [
    "# Remove the optional whitespace\n",
    "no_white_space_health_card = json.dumps(expanded_health_card, separators=(',', ':'))\n",
    "print(no_white_space_health_card)"
   ]
  },
  {
   "cell_type": "code",
   "execution_count": 96,
   "metadata": {},
   "outputs": [
    {
     "name": "stdout",
     "output_type": "stream",
     "text": [
      "b'}RK\\x8f\\xd30\\x10\\xfe+\\x96\\xb9\\xb6I\\xdcV\\xed6\\'`A\\xb0\\x1cP%\\x96^\\xd0\\x1e\\\\g\\x92\\x18\\xf9\\x11\\xd9N\\xda\\xb2\\xca\\x7fg\\xec\\xb4\\xbb \\xad\\x9aKd\\xcf\\xcc7\\xdf\\xc3\\xcfTzOK\\xda\\x86\\xd0\\xf92\\xcf\\x07.\\x844<Hk2i\\x04\\xa8\\xac\\xf79\\x9dQs\\xa8i\\xc9\\xd6+V\\xb0\\xe5\\xaa(\\xb2\\xf5\\xddv\\xb5Y\\xce\\xe8 h\\xf9L\\xdf\\x0bk\\x02\\x9c\\x02-\\x7f\\xbd \\x1d\\x8f\\xc7\\xec\\xb8\\xcc\\xack\\xf2E\\xc1\\xeer\\xe1\\xa0\\x02\\x13$W>\\x1f\\x18}\\x9a\\xd1p\\xee N\\xec\\xc1\\xc9Z\\xf2\\x83\\x82\\xfb\\x97\\x1e\\\\y\\x05\\xf2\\x9a\\xbb\\xd0\\x02W\\xa1\\xcd\\x04w\\x95\\x7f7\\x1d\\xe6\\xf1p\\xb3Oj\\xdd\\x1b\\xf9\\'\\xa9\\xb9\\xd9(\\xec +\\xb6\\x8d\\xa4^i\\xfe\\xe8\\x0f\\xbfA\\x84\\xa8\\xafn\\xa5C\\x96>\\xe2\\x94t\\x95\\x15\\x19C\\xbcx\\xfb\\xb17\\x95\\x82\\xd8\\xe3\\xc0\\xdb\\xde\\txL\\xaa\\xe8\\xa5pUI\\x85U\\n\\xd1&&\\xb8\\xc0\\x9dQ:\"\\xf7J\\xfdt\\n\\x1b\\xae\\xf3e\\x81\\r\\xd7\\xc3\\x1b\\xc0;\\x94\\x83\\xf31\\x13\\xaea\\x02\\xe1Z*\\xc4\\xa3_\\xc1 \\xee\\x8c6r\\x00\\x13\\xad\\xfd\\x06u\\x8d\\xbc\\xd3\\xd2}F\\x9fFTx\\x90\\xa8\\xfe\\x13\\x0f\\x11\\x8cm\\xb7\\x9b9+\\xe6\\x8c\\xd1q\\x9c\\xbdI\\x87\\xdd\\xa6\\xf3\\xf0\\xbf\\xc7>\\xf0\\xd0\\xfb\\xa4Ww\\n\\x02\\xc4\\x84\\xa6G\\x05\\xf7\\xb6J\\x08\\xc2V\\xd24\\x89\\xb9?\\xfb\\x00\\xfa\\xf2\\xfe0\\x9aVm\\xd2\\x8b\\x89\\xd6\\xe6^V\\xb9\\x18N\\x08 \\xd2$e\\xcb\\r\\x1e*\\xe9;\\xc5\\x93\\xdc\\xbe\\x01\\xb2\\x03#=\\xd9O+b\\x19jid\\x98\\xa2\\xfa@.\\xbb\\t\\xaf4^\\xe36\\xcc\\x97\\x04K:\\x07\\xe8Q \\x15\\xf0\\xd0\\x92\\xdaYM\\xe0$\\xa0\\x8b\\x83\\\\\\xa93Q\\xdc!z\\x87\\xe8\\nH\\xe3\\xec1\\xb4\\x89\\x89\\xd68\\x16\\x15~>\\x05\\x07\\x1a\\xb0\\xd5q\\x17\\x7f\\xbdG\\xb5\\xe3\\xd38\\xa3\\xdd%\\xa3d\\x17\\x06\\x00&z\\xf7o\\xc4\\xd8d\\x85\\xe8]*\\xc50\\x1ee\\x0c\\x93.\\x8a\\x05\\x9b\\xb3\\xc5\\x9cE\\xa5\\x1d\\xb8\\xda:\\r.y\\xc5E\\xb0.B\\xbe\\x1a\\xf0\\x80\\xef\\x88\\x93/\\x18\\xbfi.\\x16\\xa4 \\xc8\\xce\\xd9\\xc6q\\x8d\\xa1b\\xe0\\xca\\x86\\xef\\xbd>D\\x18Z\\x14\\xabE\\xb1\\xde\\xc6\\xc2\\x88\\xdf_'\n"
     ]
    }
   ],
   "source": [
    "# Normally we'd remove some of the fhirBundle elements at \n",
    "# this step ( e.g. Resource.id, Resource.meta, CodebableConcept.text).\n",
    "# These are already missing from the original payload, so we'll skip that here\n",
    "\n",
    "# Compress the payload with DEFLATE, omitting any zlib headers\n",
    "compress = zlib.compressobj(zlib.Z_DEFAULT_COMPRESSION, zlib.DEFLATED, -15)\n",
    "compressed_payload = compress.compress(no_white_space_health_card.encode('utf-8'))\n",
    "compressed_payload += compress.flush()\n",
    "\n",
    "print(compressed_payload)"
   ]
  },
  {
   "cell_type": "markdown",
   "metadata": {},
   "source": [
    "### Creating the Signed Health Card\n",
    "\n",
    "Now that we have the compressed payload we can sign it as a JWS. First, let's create the key pair for signing and verifying."
   ]
  },
  {
   "cell_type": "code",
   "execution_count": 97,
   "metadata": {},
   "outputs": [],
   "source": [
    "# Use jwcrypto to generate key data\n",
    "key_data = jwk_crypto.JWK.generate(kty='EC', crv='P-256')\n",
    "\n",
    "private_key_data = key_data.export(as_dict=True)"
   ]
  },
  {
   "cell_type": "markdown",
   "metadata": {},
   "source": [
    "With a signing key in hand we can create the JWS:"
   ]
  },
  {
   "cell_type": "code",
   "execution_count": 98,
   "metadata": {
    "scrolled": true
   },
   "outputs": [
    {
     "name": "stdout",
     "output_type": "stream",
     "text": [
      "eyJhbGciOiJFUzI1NiIsImtpZCI6InBjSk5uY2M2QmJGdW8tY2h6cFpoUWNlS2J0b2xoQlBxYWczbkVMRE9KQWciLCJ0eXAiOiJKV1QiLCJ6aXAiOiJERUYifQ.fVJLj9MwEP4rlrm2SdxW7TYnYEGwHFAlll7QHlxnkhj5EdlO2rLKf2fstLsgrZpLZM_MN9_Dz1R6T0vahtD5Ms8HLoQ0PEhrMmkEqKz3OZ1Rc6hpydYrVrDlqiiy9d12tVnO6CBo-UzfC2sCnAItf70gHY_H7LjMrGvyRcHucuGgAhMkVz4fGH2a0XDuIE7swcla8oOC-5ceXHkF8pq70AJXoc0Ed5V_Nx3m8XCzT2rdG_knqbnZKOwgK7aNpF5p_ugPv0GEqK9upUOWPuKUdJUVGUO8ePuxN5WC2OPA294JeEyq6KVwVUmFVQrRJia4wJ1ROiL3Sv10Chuu82WBDdfDG8A7lIPzMROuYQLhWirEo1_BIO6MNnIAE639BnWNvNPSfUafRlR4kKj-Ew8RjG23mzkr5ozRcZy9SYfdpvPwv8c-8ND7pFd3CgLEhKZHBfe2SgjCVtI0ibk_-wD68v4wmlZt0ouJ1uZeVrkYTggg0iRlyw0eKuk7xZPcvgGyAyM92U8rYhlqaWSYovpALrsJrzRe4zbMlwRLOgfoUSAV8NCS2llN4CSgi4NcqTNR3CF6h-gKSOPsMbSJidY4FhV-PgUHGrDVcRd_vUe149M4o90lo2QXBgAmevdvxNhkhehdKsUwHmUMky6KBZuzxZxFpR242joNLnnFRbAuQr4a8IDviJMvGL9pLhakIMjO2cZxjaFi4MqG770-RBhaFKtFsd7GwojfXw.j7L6GyvS837_MOAjrl2CDiJ4Efi7lPpcBU-3UjiXJSRrpD4NaEvQdcPsXrQO4RU1uax-vVQF96UNNsOJUy8NFA\n"
     ]
    }
   ],
   "source": [
    "kid = key_data.thumbprint() # use thumbprint from jwt_cryto.JWK key object as kid\n",
    "\n",
    "key = jwk.construct(private_key_data, algorithm=ALGORITHMS.ES256)\n",
    "jws_token = jws.sign(compressed_payload, key, algorithm=ALGORITHMS.ES256, headers={\"alg\":\"ES256\",\"zip\": \"DEF\", \"kid\":kid})\n",
    "print(jws_token)"
   ]
  },
  {
   "cell_type": "markdown",
   "metadata": {},
   "source": [
    "Now that we have the JWS we should check that we can actually verify the signature"
   ]
  },
  {
   "cell_type": "code",
   "execution_count": 99,
   "metadata": {},
   "outputs": [
    {
     "name": "stdout",
     "output_type": "stream",
     "text": [
      "b'}RK\\x8f\\xd30\\x10\\xfe+\\x96\\xb9\\xb6I\\xdcV\\xed6\\'`A\\xb0\\x1cP%\\x96^\\xd0\\x1e\\\\g\\x92\\x18\\xf9\\x11\\xd9N\\xda\\xb2\\xca\\x7fg\\xec\\xb4\\xbb \\xad\\x9aKd\\xcf\\xcc7\\xdf\\xc3\\xcfTzOK\\xda\\x86\\xd0\\xf92\\xcf\\x07.\\x844<Hk2i\\x04\\xa8\\xac\\xf79\\x9dQs\\xa8i\\xc9\\xd6+V\\xb0\\xe5\\xaa(\\xb2\\xf5\\xddv\\xb5Y\\xce\\xe8 h\\xf9L\\xdf\\x0bk\\x02\\x9c\\x02-\\x7f\\xbd \\x1d\\x8f\\xc7\\xec\\xb8\\xcc\\xack\\xf2E\\xc1\\xeer\\xe1\\xa0\\x02\\x13$W>\\x1f\\x18}\\x9a\\xd1p\\xee N\\xec\\xc1\\xc9Z\\xf2\\x83\\x82\\xfb\\x97\\x1e\\\\y\\x05\\xf2\\x9a\\xbb\\xd0\\x02W\\xa1\\xcd\\x04w\\x95\\x7f7\\x1d\\xe6\\xf1p\\xb3Oj\\xdd\\x1b\\xf9\\'\\xa9\\xb9\\xd9(\\xec +\\xb6\\x8d\\xa4^i\\xfe\\xe8\\x0f\\xbfA\\x84\\xa8\\xafn\\xa5C\\x96>\\xe2\\x94t\\x95\\x15\\x19C\\xbcx\\xfb\\xb17\\x95\\x82\\xd8\\xe3\\xc0\\xdb\\xde\\txL\\xaa\\xe8\\xa5pUI\\x85U\\n\\xd1&&\\xb8\\xc0\\x9dQ:\"\\xf7J\\xfdt\\n\\x1b\\xae\\xf3e\\x81\\r\\xd7\\xc3\\x1b\\xc0;\\x94\\x83\\xf31\\x13\\xaea\\x02\\xe1Z*\\xc4\\xa3_\\xc1 \\xee\\x8c6r\\x00\\x13\\xad\\xfd\\x06u\\x8d\\xbc\\xd3\\xd2}F\\x9fFTx\\x90\\xa8\\xfe\\x13\\x0f\\x11\\x8cm\\xb7\\x9b9+\\xe6\\x8c\\xd1q\\x9c\\xbdI\\x87\\xdd\\xa6\\xf3\\xf0\\xbf\\xc7>\\xf0\\xd0\\xfb\\xa4Ww\\n\\x02\\xc4\\x84\\xa6G\\x05\\xf7\\xb6J\\x08\\xc2V\\xd24\\x89\\xb9?\\xfb\\x00\\xfa\\xf2\\xfe0\\x9aVm\\xd2\\x8b\\x89\\xd6\\xe6^V\\xb9\\x18N\\x08 \\xd2$e\\xcb\\r\\x1e*\\xe9;\\xc5\\x93\\xdc\\xbe\\x01\\xb2\\x03#=\\xd9O+b\\x19jid\\x98\\xa2\\xfa@.\\xbb\\t\\xaf4^\\xe36\\xcc\\x97\\x04K:\\x07\\xe8Q \\x15\\xf0\\xd0\\x92\\xdaYM\\xe0$\\xa0\\x8b\\x83\\\\\\xa93Q\\xdc!z\\x87\\xe8\\nH\\xe3\\xec1\\xb4\\x89\\x89\\xd68\\x16\\x15~>\\x05\\x07\\x1a\\xb0\\xd5q\\x17\\x7f\\xbdG\\xb5\\xe3\\xd38\\xa3\\xdd%\\xa3d\\x17\\x06\\x00&z\\xf7o\\xc4\\xd8d\\x85\\xe8]*\\xc50\\x1ee\\x0c\\x93.\\x8a\\x05\\x9b\\xb3\\xc5\\x9cE\\xa5\\x1d\\xb8\\xda:\\r.y\\xc5E\\xb0.B\\xbe\\x1a\\xf0\\x80\\xef\\x88\\x93/\\x18\\xbfi.\\x16\\xa4 \\xc8\\xce\\xd9\\xc6q\\x8d\\xa1b\\xe0\\xca\\x86\\xef\\xbd>D\\x18Z\\x14\\xabE\\xb1\\xde\\xc6\\xc2\\x88\\xdf_'\n"
     ]
    }
   ],
   "source": [
    "public_key_data = key_data.export(private_key=False, as_dict=True)\n",
    "print(jws.verify(jws_token, public_key_data, ALGORITHMS.ES256))"
   ]
  },
  {
   "cell_type": "markdown",
   "metadata": {},
   "source": [
    "Now save the signature to `/.well-known/jwks.json`"
   ]
  },
  {
   "cell_type": "code",
   "execution_count": 100,
   "metadata": {},
   "outputs": [
    {
     "name": "stdout",
     "output_type": "stream",
     "text": [
      "{\n",
      "    \"keys\": [\n",
      "        {\n",
      "            \"kty\": \"EC\",\n",
      "            \"crv\": \"P-256\",\n",
      "            \"x\": \"W38NC1ogdpexkaLTWC64TEYwVeNbpyP1WrtlIPEPvLI\",\n",
      "            \"y\": \"ytrtcGqPwyzpPnI0JvBAt14n-BE8t6WdaLOHf13GLfU\",\n",
      "            \"use\": \"sig\",\n",
      "            \"alg\": \"ES256\",\n",
      "            \"kid\": \"pcJNncc6BbFuo-chzpZhQceKbtolhBPqag3nELDOJAg\"\n",
      "        }\n",
      "    ]\n",
      "}\n"
     ]
    }
   ],
   "source": [
    "public_key_data[\"use\"] = \"sig\"\n",
    "public_key_data[\"alg\"] = \"ES256\"\n",
    "public_key_data[\"kid\"] = kid\n",
    "keys = { \"keys\" : [ public_key_data ]}\n",
    "\n",
    "out_file = open(\"./.well-known/jwks.json\", \"w\")\n",
    "json.dump(keys, out_file, indent=4)\n",
    "out_file.close()\n",
    "\n",
    "print(json.dumps(keys, indent=4))"
   ]
  },
  {
   "cell_type": "markdown",
   "metadata": {},
   "source": [
    "Let's also create a fake key and test with that to make sure we aren't getting a false positive"
   ]
  },
  {
   "cell_type": "code",
   "execution_count": 101,
   "metadata": {},
   "outputs": [],
   "source": [
    "fake_key_data = jwk_crypto.JWK.generate(kty='EC', crv='P-256')\n",
    "private_fake_key = fake_key_data.export(private_key=False, as_dict=True)\n"
   ]
  },
  {
   "cell_type": "code",
   "execution_count": 102,
   "metadata": {},
   "outputs": [
    {
     "name": "stdout",
     "output_type": "stream",
     "text": [
      "Successful failure.\n"
     ]
    }
   ],
   "source": [
    "# A JWSSignatureError exception will be thrown if signing_key is invalid. \n",
    "try:\n",
    "    jws.verify(jws_token, private_fake_key, ALGORITHMS.ES256)\n",
    "except jws.JWSError:\n",
    "    print(\"Successful failure.\")"
   ]
  },
  {
   "cell_type": "markdown",
   "metadata": {},
   "source": [
    "### QR Code Generation\n",
    "\n",
    "Now that we have a JWS we can turn that into a QR Code which can be scanned. We won't worry about chunking just yet since the payload is below the 1195 character threshold in this example, but its a simple addition and [this code snippet](https://github.com/smart-on-fhir/health-cards/blob/152a4f83b223b5fd14027f765e957e290649f2c0/generate-examples/src/index.ts#L146) goes over the process."
   ]
  },
  {
   "cell_type": "code",
   "execution_count": 103,
   "metadata": {},
   "outputs": [
    {
     "name": "stdout",
     "output_type": "stream",
     "text": [
      "shc:/567629595326546034602925407728043360287028647167452228092865216138620872440532053664292655421171440559095425676640423363380529035305756636632175444254775362413237241230364254603122290356432060346029304104366031222909524320603460292437404460573601574129316112327424350769636964053855754210394465442426742725206363631036276375656259610824556334056931305705577071317058694567314532503233125023770437093903735259712308327011273166360335245969326462246830770634450437540959677655446941692363686060761255040571416534092221660040775722057022652028715710035827445027103161326926737637542772547226582059326241770757262705520343237228241070745463521166342200085456432762251167681003202943665403245508415033750664114322773905695526506265685365453034745830105233672508675072583573032624683012726740344235723040552940412640341156357275330842220534352005120729562476680930417441406425413669372960520774290437346031063873040322597272110542212355572326112010632835773237347244363159426069246604502128340932336528202409061221654233733335385740525737633707623061002474113761260506647762690866773754457612384457556773357473115400113323106725550622583124593045272157560538586122417128036053625000742309117307746463457103667229047245564169624439585858036037637674035630726210754535547358267620763212054011694459636852423844667367203169702969773756077753326374373134585766403820411133223805636333072238586007335468393337062225095900583038343570325338296055440725594100355840272669234154375550734056040712320766120363660536432158206456735573753359625956595530704074276440326276093021457277754575256737050705616633316565253753207236690752112823736029327326311267315952622832613405544575615225600732682610100300372159522530712570551026746661574374016110310926767338110610503234206169630522236029072457601063356754214000064061604329383769672307335224733655543570436936340737400472527500734136251209403333703429407611332520\n"
     ]
    }
   ],
   "source": [
    "token_caracters = list(jws_token)\n",
    "\n",
    "number_pairs = []\n",
    "for char in token_caracters:\n",
    "    int_char = ord(char) - 45\n",
    "    int_pair = [math.floor(int_char/10), int_char % 10] # Need to maintain leading zeros\n",
    "    number_pairs.append(int_pair)  \n",
    "\n",
    "numeric_jws = \"\".join([str(num) for pair in number_pairs for num in pair]) # Flatten nested list in numeric_jws_pairs\n",
    "\n",
    "qr_code_data = 'shc:/' + numeric_jws\n",
    "print(qr_code_data)"
   ]
  },
  {
   "cell_type": "markdown",
   "metadata": {},
   "source": [
    "The above shows what the value of the QR code will be, with the leading `byte` segment and the `numeric` segment following"
   ]
  },
  {
   "cell_type": "code",
   "execution_count": 104,
   "metadata": {},
   "outputs": [
    {
     "data": {
      "image/png": "[encoded data removed]",
      "text/plain": [
       "<PIL.PngImagePlugin.PngImageFile image mode=1 size=1130x1130 at 0x1FE7B200430>"
      ]
     },
     "metadata": {},
     "output_type": "display_data"
    }
   ],
   "source": [
    "from IPython.display import display\n",
    "\n",
    "qr = qrcode.QRCode(\n",
    "    version=22,\n",
    "    error_correction=qrcode.constants.ERROR_CORRECT_L,\n",
    ")\n",
    "qr.add_data(qr_code_data)\n",
    "\n",
    "img = qr.make_image()\n",
    "img.save(\"py_qrcode.png\")\n",
    "\n",
    "display(Image.open(\"py_qrcode.png\"))"
   ]
  },
  {
   "cell_type": "markdown",
   "metadata": {},
   "source": [
    "### QR Code Scanning\n",
    "\n",
    "Now let's try and scan the QR Code!"
   ]
  },
  {
   "cell_type": "code",
   "execution_count": 105,
   "metadata": {},
   "outputs": [
    {
     "name": "stdout",
     "output_type": "stream",
     "text": [
      "Are the QR Codes Equal? True\n",
      "shc:/567629595326546034602925407728043360287028647167452228092865216138620872440532053664292655421171440559095425676640423363380529035305756636632175444254775362413237241230364254603122290356432060346029304104366031222909524320603460292437404460573601574129316112327424350769636964053855754210394465442426742725206363631036276375656259610824556334056931305705577071317058694567314532503233125023770437093903735259712308327011273166360335245969326462246830770634450437540959677655446941692363686060761255040571416534092221660040775722057022652028715710035827445027103161326926737637542772547226582059326241770757262705520343237228241070745463521166342200085456432762251167681003202943665403245508415033750664114322773905695526506265685365453034745830105233672508675072583573032624683012726740344235723040552940412640341156357275330842220534352005120729562476680930417441406425413669372960520774290437346031063873040322597272110542212355572326112010632835773237347244363159426069246604502128340932336528202409061221654233733335385740525737633707623061002474113761260506647762690866773754457612384457556773357473115400113323106725550622583124593045272157560538586122417128036053625000742309117307746463457103667229047245564169624439585858036037637674035630726210754535547358267620763212054011694459636852423844667367203169702969773756077753326374373134585766403820411133223805636333072238586007335468393337062225095900583038343570325338296055440725594100355840272669234154375550734056040712320766120363660536432158206456735573753359625956595530704074276440326276093021457277754575256737050705616633316565253753207236690752112823736029327326311267315952622832613405544575615225600732682610100300372159522530712570551026746661574374016110310926767338110610503234206169630522236029072457601063356754214000064061604329383769672307335224733655543570436936340737400472527500734136251209403333703429407611332520\n"
     ]
    }
   ],
   "source": [
    "image_data = decode(Image.open('py_qrcode.png'))[0][0]\n",
    "scannedQR_data  = image_data.decode()\n",
    "\n",
    "qr_codes_equal = scannedQR_data == qr_code_data\n",
    "\n",
    "print(f\"Are the QR Codes Equal? {qr_codes_equal}\")\n",
    "print(scannedQR_data)"
   ]
  },
  {
   "cell_type": "markdown",
   "metadata": {},
   "source": [
    "### Extracting Data from the QR Code\n",
    "\n",
    "Now let's reverse the process to get the original data back and check the signature. First, let's extract the JWS."
   ]
  },
  {
   "cell_type": "code",
   "execution_count": 106,
   "metadata": {},
   "outputs": [
    {
     "name": "stdout",
     "output_type": "stream",
     "text": [
      "eyJhbGciOiJFUzI1NiIsImtpZCI6InBjSk5uY2M2QmJGdW8tY2h6cFpoUWNlS2J0b2xoQlBxYWczbkVMRE9KQWciLCJ0eXAiOiJKV1QiLCJ6aXAiOiJERUYifQ.fVJLj9MwEP4rlrm2SdxW7TYnYEGwHFAlll7QHlxnkhj5EdlO2rLKf2fstLsgrZpLZM_MN9_Dz1R6T0vahtD5Ms8HLoQ0PEhrMmkEqKz3OZ1Rc6hpydYrVrDlqiiy9d12tVnO6CBo-UzfC2sCnAItf70gHY_H7LjMrGvyRcHucuGgAhMkVz4fGH2a0XDuIE7swcla8oOC-5ceXHkF8pq70AJXoc0Ed5V_Nx3m8XCzT2rdG_knqbnZKOwgK7aNpF5p_ugPv0GEqK9upUOWPuKUdJUVGUO8ePuxN5WC2OPA294JeEyq6KVwVUmFVQrRJia4wJ1ROiL3Sv10Chuu82WBDdfDG8A7lIPzMROuYQLhWirEo1_BIO6MNnIAE639BnWNvNPSfUafRlR4kKj-Ew8RjG23mzkr5ozRcZy9SYfdpvPwv8c-8ND7pFd3CgLEhKZHBfe2SgjCVtI0ibk_-wD68v4wmlZt0ouJ1uZeVrkYTggg0iRlyw0eKuk7xZPcvgGyAyM92U8rYhlqaWSYovpALrsJrzRe4zbMlwRLOgfoUSAV8NCS2llN4CSgi4NcqTNR3CF6h-gKSOPsMbSJidY4FhV-PgUHGrDVcRd_vUe149M4o90lo2QXBgAmevdvxNhkhehdKsUwHmUMky6KBZuzxZxFpR242joNLnnFRbAuQr4a8IDviJMvGL9pLhakIMjO2cZxjaFi4MqG770-RBhaFKtFsd7GwojfXw.j7L6GyvS837_MOAjrl2CDiJ4Efi7lPpcBU-3UjiXJSRrpD4NaEvQdcPsXrQO4RU1uax-vVQF96UNNsOJUy8NFA\n"
     ]
    }
   ],
   "source": [
    "import re\n",
    "\n",
    "numeric_chunk = re.findall('.{1,2}', scannedQR_data[5:])\n",
    "jws_tk = \"\".join([chr(int(x) + 45) for x in numeric_chunk])\n",
    "print(jws_tk)"
   ]
  },
  {
   "cell_type": "markdown",
   "metadata": {},
   "source": [
    "Next we can verify the signature and extract the payload"
   ]
  },
  {
   "cell_type": "code",
   "execution_count": 107,
   "metadata": {},
   "outputs": [
    {
     "name": "stdout",
     "output_type": "stream",
     "text": [
      "{\"iss\":\"https://vaccination.incel.us/\",\"nbf\":1641013400.689473,\"vc\":{\"@context\":[\"https://www.w3.org/2018/credentials/v1\"],\"type\":[\"VerifiableCredential\",\"https://smarthealth.cards#health-card\",\"https://smarthealth.cards#immunization\",\"https://smarthealth.cards#covid19\"],\"credentialSubject\":{\"fhirVersion\":\"4.0.1\",\"fhirBundle\":{\"resourceType\":\"Bundle\",\"type\":\"collection\",\"entry\":[{\"fullUrl\":\"resource:0\",\"resource\":{\"resourceType\":\"Patient\",\"name\":[{\"family\":\"Henry\",\"given\":[\"Jefferson\",\"V.\"]}],\"birthDate\":\"1997-10-11\"}},{\"fullUrl\":\"resource:1\",\"resource\":{\"resourceType\":\"Immunization\",\"status\":\"completed\",\"vaccineCode\":{\"coding\":[{\"system\":\"http://hl7.org/fhir/sid/cvx\",\"code\":\"137\",\"display\":\"Huge Penis Vaccine\",\"definition\":\"A vaccine administered to prevent death from exceptionally large penile growth\",\"comments\":\"Extremely rarely used\"}]},\"patient\":{\"reference\":\"resource:0\"},\"occurrenceDateTime\":\"2021-12-17\",\"performer\":[{\"actor\":{\"display\":\"Intra Gaming Vaccination Program\"}}],\"lotNumber\":\"0042069\"}}]}}}}\n"
     ]
    }
   ],
   "source": [
    "payload = jws.verify(jws_tk, public_key_data, ALGORITHMS.ES256)\n",
    "\n",
    "# https://bugs.python.org/issue5784\n",
    "scanned_result = zlib.decompress(payload, wbits=-15).decode()\n",
    "print(scanned_result)"
   ]
  },
  {
   "cell_type": "markdown",
   "metadata": {},
   "source": [
    "Let's compare this to our original minified payload with whitespace removed"
   ]
  },
  {
   "cell_type": "code",
   "execution_count": 108,
   "metadata": {},
   "outputs": [
    {
     "name": "stdout",
     "output_type": "stream",
     "text": [
      "True\n"
     ]
    }
   ],
   "source": [
    "print(scanned_result == no_white_space_health_card)"
   ]
  },
  {
   "cell_type": "markdown",
   "metadata": {},
   "source": [
    "Finally, lets print the entries for easy inspection."
   ]
  },
  {
   "cell_type": "code",
   "execution_count": 109,
   "metadata": {},
   "outputs": [
    {
     "name": "stdout",
     "output_type": "stream",
     "text": [
      "{\n",
      "    \"fullUrl\": \"resource:0\",\n",
      "    \"resource\": {\n",
      "        \"resourceType\": \"Patient\",\n",
      "        \"name\": [\n",
      "            {\n",
      "                \"family\": \"Henry\",\n",
      "                \"given\": [\n",
      "                    \"Jefferson\",\n",
      "                    \"V.\"\n",
      "                ]\n",
      "            }\n",
      "        ],\n",
      "        \"birthDate\": \"1997-10-11\"\n",
      "    }\n",
      "}\n",
      "{\n",
      "    \"fullUrl\": \"resource:1\",\n",
      "    \"resource\": {\n",
      "        \"resourceType\": \"Immunization\",\n",
      "        \"status\": \"completed\",\n",
      "        \"vaccineCode\": {\n",
      "            \"coding\": [\n",
      "                {\n",
      "                    \"system\": \"http://hl7.org/fhir/sid/cvx\",\n",
      "                    \"code\": \"137\",\n",
      "                    \"display\": \"Huge Penis Vaccine\",\n",
      "                    \"definition\": \"A vaccine administered to prevent death from exceptionally large penile growth\",\n",
      "                    \"comments\": \"Extremely rarely used\"\n",
      "                }\n",
      "            ]\n",
      "        },\n",
      "        \"patient\": {\n",
      "            \"reference\": \"resource:0\"\n",
      "        },\n",
      "        \"occurrenceDateTime\": \"2021-12-17\",\n",
      "        \"performer\": [\n",
      "            {\n",
      "                \"actor\": {\n",
      "                    \"display\": \"Intra Gaming Vaccination Program\"\n",
      "                }\n",
      "            }\n",
      "        ],\n",
      "        \"lotNumber\": \"0042069\"\n",
      "    }\n",
      "}\n"
     ]
    }
   ],
   "source": [
    "entry = json.loads(scanned_result)[\"vc\"][\"credentialSubject\"][\"fhirBundle\"][\"entry\"]\n",
    "for item in entry:\n",
    "    print(json.dumps(item, indent = 4 ))\n"
   ]
  },
  {
   "cell_type": "code",
   "execution_count": null,
   "metadata": {},
   "outputs": [],
   "source": []
  },
  {
   "cell_type": "code",
   "execution_count": null,
   "metadata": {},
   "outputs": [],
   "source": []
  },
  {
   "cell_type": "code",
   "execution_count": null,
   "metadata": {},
   "outputs": [],
   "source": []
  }
 ],
 "metadata": {
  "interpreter": {
   "hash": "7cf3cfb4d2a53586223bf4603cd7f9e645cf44a77dbcec96182c9a81e54296ad"
  },
  "kernelspec": {
   "display_name": "Python 3.9.9 64-bit (windows store)",
   "name": "python3"
  },
  "language_info": {
   "codemirror_mode": {
    "name": "ipython",
    "version": 3
   },
   "file_extension": ".py",
   "mimetype": "text/x-python",
   "name": "python",
   "nbconvert_exporter": "python",
   "pygments_lexer": "ipython3",
   "version": "3.9.9"
  }
 },
 "nbformat": 4,
 "nbformat_minor": 4
}
