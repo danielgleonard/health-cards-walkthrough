{
 "cells": [
  {
   "cell_type": "markdown",
   "metadata": {},
   "source": [
    "# SMART Health Cards\n",
    "\n",
    "This notebook is designed to give an overview of [SMART Health Cards Framework](https://smarthealth.cards/) and how it works.\n"
   ]
  },
  {
   "cell_type": "markdown",
   "metadata": {},
   "source": [
    "### The FHIR Bundle\n",
    "\n",
    "A SMART Health Card is composed of a [W3C Verifiable Credential](https://w3c.github.io/vc-data-model/), [encoded as a JWT](https://w3c.github.io/vc-data-model/#jwt-encoding), with a Credential Subject that contains the FHIR version and a FHIR Bundle (See [Modeling W3C Verifiable Credentials in FHIR](https://smarthealth.cards/credential-modeling/).\n",
    "\n",
    "The FHIR Bundle contains the health care information.\n",
    "\n",
    "Let's assume we have the below FHIR Bundle ([Example 0](https://smarthealth.cards/examples/example-00-a-fhirBundle.json) at the time of writing). This FHIR Bundle could be produced in a number of ways, but for now let's imagine that the patient, John B. Anyperson, has just received his second COVID-19 vaccination shot and the healthcare worker entered his information into their system which produced the below in their system."
   ]
  },
  {
   "cell_type": "markdown",
   "metadata": {},
   "source": [
    "## Walkthrough\n",
    "\n",
    "The high level outline is as follows:\n",
    "* FHIR Bundle is created\n",
    "* FHIR Bundle is minified\n",
    "* SMART Health Card is created from FHIR Bundle\n",
    "* SMART Health Card is encoded as a JWS\n",
    "* Patient Retrieves the SMART Health Cards via:\n",
    "  * File Download\n",
    "  * QR Code\n",
    "  * FHIR API"
   ]
  },
  {
   "cell_type": "code",
   "execution_count": 1,
   "metadata": {},
   "outputs": [],
   "source": [
    "import json\n",
    "from datetime import datetime\n",
    "import zlib\n",
    "import math\n",
    "\n",
    "from pyzbar.pyzbar import decode\n",
    "from PIL import Image\n",
    "import qrcode\n",
    "from jwcrypto import jwk as jwk_crypto\n",
    "from jose import jws, jwk\n",
    "from jose.constants import ALGORITHMS\n",
    "\n"
   ]
  },
  {
   "cell_type": "code",
   "execution_count": 2,
   "metadata": {},
   "outputs": [],
   "source": [
    "\n",
    "fhir_bundle = {\n",
    "  \"resourceType\": \"Bundle\",\n",
    "  \"type\": \"collection\",\n",
    "  \"entry\": [\n",
    "    {\n",
    "      \"fullUrl\": \"resource:0\",\n",
    "      \"resource\": {\n",
    "        \"resourceType\": \"Patient\",\n",
    "        \"name\": [\n",
    "          {\n",
    "            \"family\": \"Mastio\",\n",
    "            \"given\": [\n",
    "              \"Robert\",\n",
    "              \"S.\"\n",
    "            ]\n",
    "          }\n",
    "        ],\n",
    "        \"birthDate\": \"1998-01-17\"\n",
    "      }\n",
    "    },\n",
    "    {\n",
    "      \"fullUrl\": \"resource:1\",\n",
    "      \"resource\": {\n",
    "        \"resourceType\": \"Immunization\",\n",
    "        \"status\": \"completed\",\n",
    "        \"vaccineCode\": {\n",
    "          \"coding\": [\n",
    "            {\n",
    "              \"system\": \"http://hl7.org/fhir/sid/cvx\",\n",
    "              \"code\": \"137\",\n",
    "              \"display\": \"Huge Penis Vaccine\",\n",
    "              \"definition\": \"A vaccine administered to prevent death from exceptionally large penile growth\",\n",
    "              \"comments\": \"Extremely rarely used\"\n",
    "            }\n",
    "          ]\n",
    "        },\n",
    "        \"patient\": {\n",
    "          \"reference\": \"resource:0\"\n",
    "        },\n",
    "        \"occurrenceDateTime\": \"2021-12-17\",\n",
    "        \"performer\": [\n",
    "          {\n",
    "            \"actor\": {\n",
    "              \"display\": \"Intra Gaming Vaccination Program\"\n",
    "            }\n",
    "          }\n",
    "        ],\n",
    "        \"lotNumber\": \"0042069\"\n",
    "      }\n",
    "    }\n",
    "  ]\n",
    "}\n",
    "# print(fhir_bundle)"
   ]
  },
  {
   "cell_type": "markdown",
   "metadata": {},
   "source": [
    "A couple things to note in the above JSON. This is a Bundle that contains 3 resources: one for the patient, one for the first vaccination, and another for the second vaccination. This Bundle conforms to the requirements laid out in [SMART Health Cards: Vaccination & Testing Implementation Guide](http://build.fhir.org/ig/dvci/vaccine-credential-ig/branches/main/) which defines what resources should be included in the Health Card. Specifically, this is an example of [Vaccine Credential Bundle - Data Minimization](http://build.fhir.org/ig/dvci/vaccine-credential-ig/branches/main/StructureDefinition-vaccine-credential-bundle-dm.html). We'll talk about what \"Data Minimization\" means in a second.\n",
    "\n",
    "Now let's create the \"Expanded Health Card\"."
   ]
  },
  {
   "cell_type": "markdown",
   "metadata": {},
   "source": [
    "### Expanded Health Card\n",
    "\n",
    "The Expanded Health Card shows what the Health Card looks like before it is minified and serialized using the compact JWS serialization.\n",
    "\n",
    "[Health Cards are encoded as Compact Serialization JSON Web Signatures (JWS)](https://smarthealth.cards/#health-cards-are-encoded-as-compact-serialization-json-web-signatures-jws) and [Modeling W3C Verifiable Credentials in FHIR](https://smarthealth.cards/credential-modeling/) cover this in more detail.\n",
    "\n",
    "Before we get into the details it's important to note that some of the VC properties are mapped to standard JWT fields when using the [JWT encoding](https://w3c.github.io/vc-data-model/#jwt-encoding) (which we are). These include the `iss` and `nbf` fields.\n",
    "\n",
    "Below shows the expanded Health Card for the example:"
   ]
  },
  {
   "cell_type": "code",
   "execution_count": 3,
   "metadata": {},
   "outputs": [
    {
     "name": "stdout",
     "output_type": "stream",
     "text": [
      "{'iss': 'https://vaccination.incel.us/', 'nbf': 1641122104.110127, 'vc': {'@context': ['https://www.w3.org/2018/credentials/v1'], 'type': ['VerifiableCredential', 'https://smarthealth.cards#health-card', 'https://smarthealth.cards#immunization', 'https://smarthealth.cards#covid19'], 'credentialSubject': {'fhirVersion': '4.0.1', 'fhirBundle': {'resourceType': 'Bundle', 'type': 'collection', 'entry': [{'fullUrl': 'resource:0', 'resource': {'resourceType': 'Patient', 'name': [{'family': 'Mastio', 'given': ['Robert', 'S.']}], 'birthDate': '1998-01-17'}}, {'fullUrl': 'resource:1', 'resource': {'resourceType': 'Immunization', 'status': 'completed', 'vaccineCode': {'coding': [{'system': 'http://hl7.org/fhir/sid/cvx', 'code': '137', 'display': 'Huge Penis Vaccine', 'definition': 'A vaccine administered to prevent death from exceptionally large penile growth', 'comments': 'Extremely rarely used'}]}, 'patient': {'reference': 'resource:0'}, 'occurrenceDateTime': '2021-12-17', 'performer': [{'actor': {'display': 'Intra Gaming Vaccination Program'}}], 'lotNumber': '0042069'}}]}}}}\n"
     ]
    }
   ],
   "source": [
    "expanded_health_card = {\n",
    "  \"iss\": \"https://vaccination.incel.us/\",\n",
    "  \"nbf\": datetime.utcnow().timestamp(),\n",
    "  \"vc\": {\n",
    "    \"@context\": [\n",
    "      \"https://www.w3.org/2018/credentials/v1\"\n",
    "    ],\n",
    "    \"type\": [\n",
    "      \"VerifiableCredential\",\n",
    "      \"https://smarthealth.cards#health-card\",\n",
    "      \"https://smarthealth.cards#immunization\",\n",
    "      \"https://smarthealth.cards#covid19\"\n",
    "\n",
    "    ],\n",
    "    \"credentialSubject\": {\n",
    "        \"fhirVersion\": \"4.0.1\",\n",
    "        \"fhirBundle\": fhir_bundle\n",
    "    }\n",
    "  }\n",
    "}\n",
    "print(expanded_health_card)"
   ]
  },
  {
   "cell_type": "markdown",
   "metadata": {},
   "source": [
    "Let's talk about the three root fields:\n",
    "\n",
    "`iss` - This represents the [Issuer](https://w3c.github.io/vc-data-model/#issuer)\n",
    "  * Note this property is represented by `iss` according to the [JWT Encoding Rules](https://w3c.github.io/vc-data-model/#jwt-encoding)\n",
    "\n",
    "`nbf` - This represents the [IssuanceDate](https://w3c.github.io/vc-data-model/#issuance-date)\n",
    "  * Note this property is represented by `nbf`.\n",
    "\n",
    "`vc` - This represents the VC claim minus all the unmapped fields (`iss` and `nbf`)\n",
    "\n",
    "\n",
    "TODO: Fill out the rest of these properties"
   ]
  },
  {
   "cell_type": "markdown",
   "metadata": {},
   "source": [
    "### Health Cards are Small\n",
    "\n",
    "SMART Health Cards can be issued on pieces of paper via QR Codes. This introduces some unique size constraints in order to keep the number and size of QR codes manageable. When using and applying SMART Health Cards, it's important to keep them small.\n",
    "\n",
    "The SMART Health Card spec requires that [the JWS payload is minified and compressed](https://smarthealth.cards/#health-cards-are-small) in order to reduce payload size.\n",
    "\n",
    "SMART Health Cards are designed to be be atomic and shared as a whole. Information within the Health Card cannot be removed without affecting the verifiability of the Health Card. This imposes a privacy challenge when too much information is included in a single Health Card.\n",
    "\n",
    "The \"Data Minimization\" profiles in the IG are designed to address these size and privacy concerns by ensuring the FHIR profiles only require the minimal set of information to achieve the desired results.\n",
    "\n",
    "Below the JWS Payload (i.e. the \"Expanded Health Card\") is compressed according to the spec:"
   ]
  },
  {
   "cell_type": "code",
   "execution_count": 4,
   "metadata": {},
   "outputs": [
    {
     "name": "stdout",
     "output_type": "stream",
     "text": [
      "{\"iss\":\"https://vaccination.incel.us/\",\"nbf\":1641122104.110127,\"vc\":{\"@context\":[\"https://www.w3.org/2018/credentials/v1\"],\"type\":[\"VerifiableCredential\",\"https://smarthealth.cards#health-card\",\"https://smarthealth.cards#immunization\",\"https://smarthealth.cards#covid19\"],\"credentialSubject\":{\"fhirVersion\":\"4.0.1\",\"fhirBundle\":{\"resourceType\":\"Bundle\",\"type\":\"collection\",\"entry\":[{\"fullUrl\":\"resource:0\",\"resource\":{\"resourceType\":\"Patient\",\"name\":[{\"family\":\"Mastio\",\"given\":[\"Robert\",\"S.\"]}],\"birthDate\":\"1998-01-17\"}},{\"fullUrl\":\"resource:1\",\"resource\":{\"resourceType\":\"Immunization\",\"status\":\"completed\",\"vaccineCode\":{\"coding\":[{\"system\":\"http://hl7.org/fhir/sid/cvx\",\"code\":\"137\",\"display\":\"Huge Penis Vaccine\",\"definition\":\"A vaccine administered to prevent death from exceptionally large penile growth\",\"comments\":\"Extremely rarely used\"}]},\"patient\":{\"reference\":\"resource:0\"},\"occurrenceDateTime\":\"2021-12-17\",\"performer\":[{\"actor\":{\"display\":\"Intra Gaming Vaccination Program\"}}],\"lotNumber\":\"0042069\"}}]}}}}\n"
     ]
    }
   ],
   "source": [
    "# Remove the optional whitespace\n",
    "no_white_space_health_card = json.dumps(expanded_health_card, separators=(',', ':'))\n",
    "print(no_white_space_health_card)"
   ]
  },
  {
   "cell_type": "code",
   "execution_count": 5,
   "metadata": {},
   "outputs": [
    {
     "name": "stdout",
     "output_type": "stream",
     "text": [
      "b'}R\\xcbn\\xdb0\\x10\\xfc\\x15\\x82\\xbd\\xda\\x92\\xa8\\x18q\\xacS\\xdb\\xb4hsha4i.\\x85\\x0f\\x14\\xb5\\x92X\\xf0!,)?\\x1a\\xf8\\xdf\\xbb\\x94\\xed\\xa4\\x05\\x82\\xe8\"\\x90;;\\xbb3\\xc3\\'\\xaeC\\xe0\\x15\\xefc\\x1cB\\x95\\xe7[\\xa9\\x94v2j\\xef2\\xed\\x14\\x98l\\x0c9\\x9fqW\\xb7\\xbc\\x12\\xd7\\x0b!\\xcaR\\x14\\x8bL\\x88B\\x94\\xcb\\x19\\xdf*^=\\xf1\\xf7\\xca\\xbb\\x08\\xfb\\xc8\\xab_\\xcfL\\xbb\\xdd.\\xdb]e\\x1e\\xbb\\xbc,\\xc4M\\xae\\x10\\x1apQK\\x13\\xf2\\xad\\xe0\\x9b\\x19\\x8f\\x87\\x01R\\xc7#\\xa0n\\xb5\\xac\\r\\xdc>ch\\xe4\\x85(X\\x89\\xb1\\x07ib\\x9f)\\x89Mxw:\\xcc\\xd3\\xe1M\\x9c\\xb6vt\\xfa\\xcf\\xa4\\xe6M\\xa0\\xf2[\\xdd\\x88UZ\\xeae\\xcd\\xfb\\xb1\\xfe\\r*&}m\\xaf\\x91\\xb6\\x0c\\x89\\xa7\\xe2\\x8b\\xac\\xc8\\x04\\xf1\\xa5\\xdb\\x8f\\xa3k\\x0c$\\x0cB\\xf0#*x\\x98T\\xf1s\\xe1\\xa2\\x92+o\\x0c\\xb1\\x9d6\\xa1\\x01x \\xe9\\xc4<\\x1a\\xf3\\x13\\r\\x01.\\xfdUA\\x80\\xcb\\xe1\\x15\\xe25\\xc9\\xa1\\xfe\\x94\\x89\\xb4p\"\\x91V\\x1b\\xe2\\xe3\\xdfd\\xa0\\tT\\xea\\xf4\\x16\\\\\\xf2\\xf6\\x87\\xaf\\x01\\x13\\xf8>\\xe3\\x9b#\\xe9\\xab5i\\xff$c\\xa2\\x12\\xab\\xd5\\xcd\\xbc\\x10s\\xb1\\xe4\\xc7\\xe3\\xec\\xd5e\\xc4\\xdb\\xcb\\xdc\\xfd\\xefp\\x882\\x8eaRk\\x07\\x03\\x11R>\\xa7\\'\\x05\\xb7\\xbe\\x99\\x18\\x94o\\xb4\\xeb\\xa6\\xbd\\xc3!D\\xb0\\xe7\\xd7G\\xc1\\xf4f9\\xbd\\x97dl\\x1et\\x93\\xab\\xed\\x9e\\x08\\xd4\\xd4\\xc9\\xc5\\xd5\\x92\\x0e\\x8d\\x0e\\x83\\x91I\\xec\\xd7\\xb1\\x03\\xb6\\x06\\xa7\\x03{<\\x8dHeh\\xb5\\xd3\\xf1\\x14\\xd4\\x07v\\x9e\\xcddc\\xe9\\x9a\\xa6Q\\xba,z6 \\x90A\\x915 c\\xcfZ\\xf4\\x96\\xc1^\\xc1\\x90\\x1a\\xa51\\x07f$\\x12\\xfb@\\xec\\x06X\\x87~\\x17\\xfbi\\x13k\\xa9-)\\xfc\\xbc\\x8f\\x08\\x16\\x08\\x8a\\x12\\xd3o\\x0c\\xa4\\xf6\\xb89\\xce\\xf8pNh\\xb2\\xab\\xa5\\x91.y\\xf7o\\xc0\\x04\\xf2J\\x8d8\\x95R\\x18\\x0f:E\\xc9\\xcb\\xa2\\xa44\\xca\\x14\\x08\\xd1\\x00\\xb6\\x1e-\\xe0\\xe4\\x95T\\xd1c\\xa2|1\\xe0\\x8e^\\x91d_(|\\xd7\\x9d-\\x98\\x82`k\\xf4\\x1dJK\\xa1R\\xe0\\xc6\\xc7\\xef\\xa3\\xad\\x13\\r/\\x8aEY\\\\\\xafR\\xe1H\\xdf_'\n"
     ]
    }
   ],
   "source": [
    "# Normally we'd remove some of the fhirBundle elements at \n",
    "# this step ( e.g. Resource.id, Resource.meta, CodebableConcept.text).\n",
    "# These are already missing from the original payload, so we'll skip that here\n",
    "\n",
    "# Compress the payload with DEFLATE, omitting any zlib headers\n",
    "compress = zlib.compressobj(zlib.Z_DEFAULT_COMPRESSION, zlib.DEFLATED, -15)\n",
    "compressed_payload = compress.compress(no_white_space_health_card.encode('utf-8'))\n",
    "compressed_payload += compress.flush()\n",
    "\n",
    "print(compressed_payload)"
   ]
  },
  {
   "cell_type": "markdown",
   "metadata": {},
   "source": [
    "### Creating the Signed Health Card\n",
    "\n",
    "Now that we have the compressed payload we can sign it as a JWS. First, let's create the key pair for signing and verifying."
   ]
  },
  {
   "cell_type": "code",
   "execution_count": 6,
   "metadata": {},
   "outputs": [],
   "source": [
    "# Use jwcrypto to generate key data\n",
    "key_data = jwk_crypto.JWK.generate(kty='EC', crv='P-256')\n",
    "\n",
    "private_key_data = key_data.export(as_dict=True)"
   ]
  },
  {
   "cell_type": "markdown",
   "metadata": {},
   "source": [
    "With a signing key in hand we can create the JWS:"
   ]
  },
  {
   "cell_type": "code",
   "execution_count": 7,
   "metadata": {
    "scrolled": true
   },
   "outputs": [
    {
     "name": "stdout",
     "output_type": "stream",
     "text": [
      "eyJhbGciOiJFUzI1NiIsImtpZCI6ImdsMHozQ3BuNTZvYmoydWthOXpxSE0ydm1EWFJfZk9GQ01GVGVzbGdyTWciLCJ0eXAiOiJKV1QiLCJ6aXAiOiJERUYifQ.fVLLbtswEPwVgr3akqgYcaxT27Roc2hhNGkuhQ8UtZJY8CEsKT8a-N-7lO2kBYLoIpA7O7szwyeuQ-AV72McQpXnW6mUdjJq7zLtFJhsDDmfcVe3vBLXCyHKUhSLTIhClMsZ3ypePfH3yrsI-8irX89Mu90u211lHru8LMRNrhAacFFLE_Kt4JsZj4cBUscjoG61rA3cPmNo5IUoWImxB2linymJTXh3OszT4U2ctnZ0-s-k5k2g8lvdiFVa6mXN-7H-DSomfW2vkbYMiafii6zIBPGl24-jawwkDELwIyp4mFTxc-GikitvDLGdNqEBeCDpxDwa8xMNAS79VUGAy-EV4jXJof6UibRwIpFWG-Lj32SgCVTq9BZc8vaHrwET-D7jmyPpqzVp_yRjohKr1c28EHOx5Mfj7NVlxNvL3P3vcIgyjmFSawcDEVI-pycFt76ZGJRvtOumvcMhRLDn10fB9GY5vZdkbB50k6vtngjU1MnF1ZIOjQ6DkUns17EDtganA3s8jUhlaLXT8RTUB3aezWRj6ZqmUbosejYgkEGRNSBjz1r0lsFewZAapTEHZiQS-0DsBliHfhf7aRNrqS0p_LyPCBYIihLTbwyk9rg5zvhwTmiyq6WRLnn3b8AE8kqNOJVSGA86RcnLoqQ0yhQI0QC2Hi3g5JVU0WOifDHgjl6RZF8ofNedLZiCYGv0HUpLoVLgxsfvo60TDS-KRVlcr1LhSN9f.I6_MM9N1tNKdrrqBGZQVujwfolPHoq8gqHzONzEr5COcF80CRTvW3JR6IcJ5gs_E-dB99N3Ay-DR8w4OkT4vPg\n"
     ]
    }
   ],
   "source": [
    "kid = key_data.thumbprint() # use thumbprint from jwt_cryto.JWK key object as kid\n",
    "\n",
    "key = jwk.construct(private_key_data, algorithm=ALGORITHMS.ES256)\n",
    "jws_token = jws.sign(compressed_payload, key, algorithm=ALGORITHMS.ES256, headers={\"alg\":\"ES256\",\"zip\": \"DEF\", \"kid\":kid})\n",
    "print(jws_token)"
   ]
  },
  {
   "cell_type": "markdown",
   "metadata": {},
   "source": [
    "Now that we have the JWS we should check that we can actually verify the signature"
   ]
  },
  {
   "cell_type": "code",
   "execution_count": 8,
   "metadata": {},
   "outputs": [
    {
     "name": "stdout",
     "output_type": "stream",
     "text": [
      "b'}R\\xcbn\\xdb0\\x10\\xfc\\x15\\x82\\xbd\\xda\\x92\\xa8\\x18q\\xacS\\xdb\\xb4hsha4i.\\x85\\x0f\\x14\\xb5\\x92X\\xf0!,)?\\x1a\\xf8\\xdf\\xbb\\x94\\xed\\xa4\\x05\\x82\\xe8\"\\x90;;\\xbb3\\xc3\\'\\xaeC\\xe0\\x15\\xefc\\x1cB\\x95\\xe7[\\xa9\\x94v2j\\xef2\\xed\\x14\\x98l\\x0c9\\x9fqW\\xb7\\xbc\\x12\\xd7\\x0b!\\xcaR\\x14\\x8bL\\x88B\\x94\\xcb\\x19\\xdf*^=\\xf1\\xf7\\xca\\xbb\\x08\\xfb\\xc8\\xab_\\xcfL\\xbb\\xdd.\\xdb]e\\x1e\\xbb\\xbc,\\xc4M\\xae\\x10\\x1apQK\\x13\\xf2\\xad\\xe0\\x9b\\x19\\x8f\\x87\\x01R\\xc7#\\xa0n\\xb5\\xac\\r\\xdc>ch\\xe4\\x85(X\\x89\\xb1\\x07ib\\x9f)\\x89Mxw:\\xcc\\xd3\\xe1M\\x9c\\xb6vt\\xfa\\xcf\\xa4\\xe6M\\xa0\\xf2[\\xdd\\x88UZ\\xeae\\xcd\\xfb\\xb1\\xfe\\r*&}m\\xaf\\x91\\xb6\\x0c\\x89\\xa7\\xe2\\x8b\\xac\\xc8\\x04\\xf1\\xa5\\xdb\\x8f\\xa3k\\x0c$\\x0cB\\xf0#*x\\x98T\\xf1s\\xe1\\xa2\\x92+o\\x0c\\xb1\\x9d6\\xa1\\x01x \\xe9\\xc4<\\x1a\\xf3\\x13\\r\\x01.\\xfdUA\\x80\\xcb\\xe1\\x15\\xe25\\xc9\\xa1\\xfe\\x94\\x89\\xb4p\"\\x91V\\x1b\\xe2\\xe3\\xdfd\\xa0\\tT\\xea\\xf4\\x16\\\\\\xf2\\xf6\\x87\\xaf\\x01\\x13\\xf8>\\xe3\\x9b#\\xe9\\xab5i\\xff$c\\xa2\\x12\\xab\\xd5\\xcd\\xbc\\x10s\\xb1\\xe4\\xc7\\xe3\\xec\\xd5e\\xc4\\xdb\\xcb\\xdc\\xfd\\xefp\\x882\\x8eaRk\\x07\\x03\\x11R>\\xa7\\'\\x05\\xb7\\xbe\\x99\\x18\\x94o\\xb4\\xeb\\xa6\\xbd\\xc3!D\\xb0\\xe7\\xd7G\\xc1\\xf4f9\\xbd\\x97dl\\x1et\\x93\\xab\\xed\\x9e\\x08\\xd4\\xd4\\xc9\\xc5\\xd5\\x92\\x0e\\x8d\\x0e\\x83\\x91I\\xec\\xd7\\xb1\\x03\\xb6\\x06\\xa7\\x03{<\\x8dHeh\\xb5\\xd3\\xf1\\x14\\xd4\\x07v\\x9e\\xcddc\\xe9\\x9a\\xa6Q\\xba,z6 \\x90A\\x915 c\\xcfZ\\xf4\\x96\\xc1^\\xc1\\x90\\x1a\\xa51\\x07f$\\x12\\xfb@\\xec\\x06X\\x87~\\x17\\xfbi\\x13k\\xa9-)\\xfc\\xbc\\x8f\\x08\\x16\\x08\\x8a\\x12\\xd3o\\x0c\\xa4\\xf6\\xb89\\xce\\xf8pNh\\xb2\\xab\\xa5\\x91.y\\xf7o\\xc0\\x04\\xf2J\\x8d8\\x95R\\x18\\x0f:E\\xc9\\xcb\\xa2\\xa44\\xca\\x14\\x08\\xd1\\x00\\xb6\\x1e-\\xe0\\xe4\\x95T\\xd1c\\xa2|1\\xe0\\x8e^\\x91d_(|\\xd7\\x9d-\\x98\\x82`k\\xf4\\x1dJK\\xa1R\\xe0\\xc6\\xc7\\xef\\xa3\\xad\\x13\\r/\\x8aEY\\\\\\xafR\\xe1H\\xdf_'\n"
     ]
    }
   ],
   "source": [
    "public_key_data = key_data.export(private_key=False, as_dict=True)\n",
    "print(jws.verify(jws_token, public_key_data, ALGORITHMS.ES256))"
   ]
  },
  {
   "cell_type": "markdown",
   "metadata": {},
   "source": [
    "Now save the signature to `/.well-known/jwks.json`"
   ]
  },
  {
   "cell_type": "code",
   "execution_count": null,
   "metadata": {},
   "outputs": [],
   "source": [
    "public_key_data[\"use\"] = \"sig\"\n",
    "public_key_data[\"alg\"] = \"ES256\"\n",
    "public_key_data[\"kid\"] = kid\n",
    "keys = { \"keys\" : [ public_key_data ]}\n",
    "\n",
    "out_file = open(\"./.well-known/jwks.json\", \"w\")\n",
    "json.dump(keys, out_file, indent=4)\n",
    "out_file.close()\n",
    "\n",
    "print(json.dumps(keys, indent=4))"
   ]
  },
  {
   "cell_type": "markdown",
   "metadata": {},
   "source": [
    "Let's also create a fake key and test with that to make sure we aren't getting a false positive"
   ]
  },
  {
   "cell_type": "code",
   "execution_count": 10,
   "metadata": {},
   "outputs": [],
   "source": [
    "fake_key_data = jwk_crypto.JWK.generate(kty='EC', crv='P-256')\n",
    "private_fake_key = fake_key_data.export(private_key=False, as_dict=True)\n"
   ]
  },
  {
   "cell_type": "code",
   "execution_count": 11,
   "metadata": {},
   "outputs": [
    {
     "name": "stdout",
     "output_type": "stream",
     "text": [
      "Successful failure.\n"
     ]
    }
   ],
   "source": [
    "# A JWSSignatureError exception will be thrown if signing_key is invalid. \n",
    "try:\n",
    "    jws.verify(jws_token, private_fake_key, ALGORITHMS.ES256)\n",
    "except jws.JWSError:\n",
    "    print(\"Successful failure.\")"
   ]
  },
  {
   "cell_type": "markdown",
   "metadata": {},
   "source": [
    "### QR Code Generation\n",
    "\n",
    "Now that we have a JWS we can turn that into a QR Code which can be scanned. We won't worry about chunking just yet since the payload is below the 1195 character threshold in this example, but its a simple addition and [this code snippet](https://github.com/smart-on-fhir/health-cards/blob/152a4f83b223b5fd14027f765e957e290649f2c0/generate-examples/src/index.ts#L146) goes over the process."
   ]
  },
  {
   "cell_type": "code",
   "execution_count": 12,
   "metadata": {},
   "outputs": [
    {
     "name": "stdout",
     "output_type": "stream",
     "text": [
      "shc:/56762959532654603460292540772804336028702864716745222809286455703227667736062172333945734464667655427159344367753824037655640424422529574562122636030426412641775326557639425460312229035643206034602930410436603122290952432060346029243740446057360157413131537170742435744158690652626858445452753905103766540559593326627259361140714529441122247030391152003300106334056221443166286720103410707774765672360020411005325436674365420964405561296810773171252959702323645754415606732131432276273040593831392859226332704506766756355727067669702800116069431112327212037205040463276972113132373369592052542525312450307107297045610754214070546166260904692006543564336608284066422864752105636065766429394359063470773907400554716545030070006208620558116373556025415209644333001027002338666457420573625344326052576060097728213526630507006152747462232431742876670764253975540026606260717323312655336824215622236775237452117532332038101241402620760024410761432966570940605337742867254226003161060538582241396812214554117352276974243900231061647635676877416750763761665930690454051124273475083257611033416375337331063506735428587661642538527454232441280067765425711009452629377371347264735432593731236504035721122644087345556253210803620973716558614004326525044528346136092362406570041024237158526520067011614059635231433911373940210652567742376109456864405366705661445862242637333821617704690363702556744520526739242745603638000323702163602757595710523733696838036750317635222144286059313953747662126958087773597439646076680942373165650653112024116268333429413826201109375465316668360376593628033622052760065808294140034234605723275861630937452511665733565531456022442673032740673166413158757057736609033923380030374163546904315938331257012809503232123304713330556969682126453641726174576663352766681158682777343377246908223454251103223739734206293709285429085870502400552112123306207600233711740734623907733558\n"
     ]
    }
   ],
   "source": [
    "token_caracters = list(jws_token)\n",
    "\n",
    "number_pairs = []\n",
    "for char in token_caracters:\n",
    "    int_char = ord(char) - 45\n",
    "    int_pair = [math.floor(int_char/10), int_char % 10] # Need to maintain leading zeros\n",
    "    number_pairs.append(int_pair)  \n",
    "\n",
    "numeric_jws = \"\".join([str(num) for pair in number_pairs for num in pair]) # Flatten nested list in numeric_jws_pairs\n",
    "\n",
    "qr_code_data = 'shc:/' + numeric_jws\n",
    "print(qr_code_data)"
   ]
  },
  {
   "cell_type": "markdown",
   "metadata": {},
   "source": [
    "The above shows what the value of the QR code will be, with the leading `byte` segment and the `numeric` segment following"
   ]
  },
  {
   "cell_type": "code",
   "execution_count": 13,
   "metadata": {},
   "outputs": [
    {
     "data": {
      "image/png": "[encoded data removed]",
      "text/plain": [
       "<PIL.PngImagePlugin.PngImageFile image mode=1 size=1130x1130 at 0x225B3A79AC0>"
      ]
     },
     "metadata": {},
     "output_type": "display_data"
    }
   ],
   "source": [
    "from IPython.display import display\n",
    "\n",
    "qr = qrcode.QRCode(\n",
    "    version=22,\n",
    "    error_correction=qrcode.constants.ERROR_CORRECT_L,\n",
    ")\n",
    "qr.add_data(qr_code_data)\n",
    "\n",
    "img = qr.make_image()\n",
    "img.save(\"py_qrcode.png\")\n",
    "\n",
    "display(Image.open(\"py_qrcode.png\"))"
   ]
  },
  {
   "cell_type": "markdown",
   "metadata": {},
   "source": [
    "### QR Code Scanning\n",
    "\n",
    "Now let's try and scan the QR Code!"
   ]
  },
  {
   "cell_type": "code",
   "execution_count": 14,
   "metadata": {},
   "outputs": [
    {
     "name": "stdout",
     "output_type": "stream",
     "text": [
      "Are the QR Codes Equal? True\n",
      "shc:/56762959532654603460292540772804336028702864716745222809286455703227667736062172333945734464667655427159344367753824037655640424422529574562122636030426412641775326557639425460312229035643206034602930410436603122290952432060346029243740446057360157413131537170742435744158690652626858445452753905103766540559593326627259361140714529441122247030391152003300106334056221443166286720103410707774765672360020411005325436674365420964405561296810773171252959702323645754415606732131432276273040593831392859226332704506766756355727067669702800116069431112327212037205040463276972113132373369592052542525312450307107297045610754214070546166260904692006543564336608284066422864752105636065766429394359063470773907400554716545030070006208620558116373556025415209644333001027002338666457420573625344326052576060097728213526630507006152747462232431742876670764253975540026606260717323312655336824215622236775237452117532332038101241402620760024410761432966570940605337742867254226003161060538582241396812214554117352276974243900231061647635676877416750763761665930690454051124273475083257611033416375337331063506735428587661642538527454232441280067765425711009452629377371347264735432593731236504035721122644087345556253210803620973716558614004326525044528346136092362406570041024237158526520067011614059635231433911373940210652567742376109456864405366705661445862242637333821617704690363702556744520526739242745603638000323702163602757595710523733696838036750317635222144286059313953747662126958087773597439646076680942373165650653112024116268333429413826201109375465316668360376593628033622052760065808294140034234605723275861630937452511665733565531456022442673032740673166413158757057736609033923380030374163546904315938331257012809503232123304713330556969682126453641726174576663352766681158682777343377246908223454251103223739734206293709285429085870502400552112123306207600233711740734623907733558\n"
     ]
    }
   ],
   "source": [
    "image_data = decode(Image.open('py_qrcode.png'))[0][0]\n",
    "scannedQR_data  = image_data.decode()\n",
    "\n",
    "qr_codes_equal = scannedQR_data == qr_code_data\n",
    "\n",
    "print(f\"Are the QR Codes Equal? {qr_codes_equal}\")\n",
    "print(scannedQR_data)"
   ]
  },
  {
   "cell_type": "markdown",
   "metadata": {},
   "source": [
    "### Extracting Data from the QR Code\n",
    "\n",
    "Now let's reverse the process to get the original data back and check the signature. First, let's extract the JWS."
   ]
  },
  {
   "cell_type": "code",
   "execution_count": 15,
   "metadata": {},
   "outputs": [
    {
     "name": "stdout",
     "output_type": "stream",
     "text": [
      "eyJhbGciOiJFUzI1NiIsImtpZCI6ImdsMHozQ3BuNTZvYmoydWthOXpxSE0ydm1EWFJfZk9GQ01GVGVzbGdyTWciLCJ0eXAiOiJKV1QiLCJ6aXAiOiJERUYifQ.fVLLbtswEPwVgr3akqgYcaxT27Roc2hhNGkuhQ8UtZJY8CEsKT8a-N-7lO2kBYLoIpA7O7szwyeuQ-AV72McQpXnW6mUdjJq7zLtFJhsDDmfcVe3vBLXCyHKUhSLTIhClMsZ3ypePfH3yrsI-8irX89Mu90u211lHru8LMRNrhAacFFLE_Kt4JsZj4cBUscjoG61rA3cPmNo5IUoWImxB2linymJTXh3OszT4U2ctnZ0-s-k5k2g8lvdiFVa6mXN-7H-DSomfW2vkbYMiafii6zIBPGl24-jawwkDELwIyp4mFTxc-GikitvDLGdNqEBeCDpxDwa8xMNAS79VUGAy-EV4jXJof6UibRwIpFWG-Lj32SgCVTq9BZc8vaHrwET-D7jmyPpqzVp_yRjohKr1c28EHOx5Mfj7NVlxNvL3P3vcIgyjmFSawcDEVI-pycFt76ZGJRvtOumvcMhRLDn10fB9GY5vZdkbB50k6vtngjU1MnF1ZIOjQ6DkUns17EDtganA3s8jUhlaLXT8RTUB3aezWRj6ZqmUbosejYgkEGRNSBjz1r0lsFewZAapTEHZiQS-0DsBliHfhf7aRNrqS0p_LyPCBYIihLTbwyk9rg5zvhwTmiyq6WRLnn3b8AE8kqNOJVSGA86RcnLoqQ0yhQI0QC2Hi3g5JVU0WOifDHgjl6RZF8ofNedLZiCYGv0HUpLoVLgxsfvo60TDS-KRVlcr1LhSN9f.I6_MM9N1tNKdrrqBGZQVujwfolPHoq8gqHzONzEr5COcF80CRTvW3JR6IcJ5gs_E-dB99N3Ay-DR8w4OkT4vPg\n"
     ]
    }
   ],
   "source": [
    "import re\n",
    "\n",
    "numeric_chunk = re.findall('.{1,2}', scannedQR_data[5:])\n",
    "jws_tk = \"\".join([chr(int(x) + 45) for x in numeric_chunk])\n",
    "print(jws_tk)"
   ]
  },
  {
   "cell_type": "markdown",
   "metadata": {},
   "source": [
    "Next we can verify the signature and extract the payload"
   ]
  },
  {
   "cell_type": "code",
   "execution_count": 16,
   "metadata": {},
   "outputs": [
    {
     "name": "stdout",
     "output_type": "stream",
     "text": [
      "{\"iss\":\"https://vaccination.incel.us/\",\"nbf\":1641122104.110127,\"vc\":{\"@context\":[\"https://www.w3.org/2018/credentials/v1\"],\"type\":[\"VerifiableCredential\",\"https://smarthealth.cards#health-card\",\"https://smarthealth.cards#immunization\",\"https://smarthealth.cards#covid19\"],\"credentialSubject\":{\"fhirVersion\":\"4.0.1\",\"fhirBundle\":{\"resourceType\":\"Bundle\",\"type\":\"collection\",\"entry\":[{\"fullUrl\":\"resource:0\",\"resource\":{\"resourceType\":\"Patient\",\"name\":[{\"family\":\"Mastio\",\"given\":[\"Robert\",\"S.\"]}],\"birthDate\":\"1998-01-17\"}},{\"fullUrl\":\"resource:1\",\"resource\":{\"resourceType\":\"Immunization\",\"status\":\"completed\",\"vaccineCode\":{\"coding\":[{\"system\":\"http://hl7.org/fhir/sid/cvx\",\"code\":\"137\",\"display\":\"Huge Penis Vaccine\",\"definition\":\"A vaccine administered to prevent death from exceptionally large penile growth\",\"comments\":\"Extremely rarely used\"}]},\"patient\":{\"reference\":\"resource:0\"},\"occurrenceDateTime\":\"2021-12-17\",\"performer\":[{\"actor\":{\"display\":\"Intra Gaming Vaccination Program\"}}],\"lotNumber\":\"0042069\"}}]}}}}\n"
     ]
    }
   ],
   "source": [
    "payload = jws.verify(jws_tk, public_key_data, ALGORITHMS.ES256)\n",
    "\n",
    "# https://bugs.python.org/issue5784\n",
    "scanned_result = zlib.decompress(payload, wbits=-15).decode()\n",
    "print(scanned_result)"
   ]
  },
  {
   "cell_type": "markdown",
   "metadata": {},
   "source": [
    "Let's compare this to our original minified payload with whitespace removed"
   ]
  },
  {
   "cell_type": "code",
   "execution_count": 17,
   "metadata": {},
   "outputs": [
    {
     "name": "stdout",
     "output_type": "stream",
     "text": [
      "True\n"
     ]
    }
   ],
   "source": [
    "print(scanned_result == no_white_space_health_card)"
   ]
  },
  {
   "cell_type": "markdown",
   "metadata": {},
   "source": [
    "Finally, lets print the entries for easy inspection."
   ]
  },
  {
   "cell_type": "code",
   "execution_count": 18,
   "metadata": {},
   "outputs": [
    {
     "name": "stdout",
     "output_type": "stream",
     "text": [
      "{\n",
      "    \"fullUrl\": \"resource:0\",\n",
      "    \"resource\": {\n",
      "        \"resourceType\": \"Patient\",\n",
      "        \"name\": [\n",
      "            {\n",
      "                \"family\": \"Mastio\",\n",
      "                \"given\": [\n",
      "                    \"Robert\",\n",
      "                    \"S.\"\n",
      "                ]\n",
      "            }\n",
      "        ],\n",
      "        \"birthDate\": \"1998-01-17\"\n",
      "    }\n",
      "}\n",
      "{\n",
      "    \"fullUrl\": \"resource:1\",\n",
      "    \"resource\": {\n",
      "        \"resourceType\": \"Immunization\",\n",
      "        \"status\": \"completed\",\n",
      "        \"vaccineCode\": {\n",
      "            \"coding\": [\n",
      "                {\n",
      "                    \"system\": \"http://hl7.org/fhir/sid/cvx\",\n",
      "                    \"code\": \"137\",\n",
      "                    \"display\": \"Huge Penis Vaccine\",\n",
      "                    \"definition\": \"A vaccine administered to prevent death from exceptionally large penile growth\",\n",
      "                    \"comments\": \"Extremely rarely used\"\n",
      "                }\n",
      "            ]\n",
      "        },\n",
      "        \"patient\": {\n",
      "            \"reference\": \"resource:0\"\n",
      "        },\n",
      "        \"occurrenceDateTime\": \"2021-12-17\",\n",
      "        \"performer\": [\n",
      "            {\n",
      "                \"actor\": {\n",
      "                    \"display\": \"Intra Gaming Vaccination Program\"\n",
      "                }\n",
      "            }\n",
      "        ],\n",
      "        \"lotNumber\": \"0042069\"\n",
      "    }\n",
      "}\n"
     ]
    }
   ],
   "source": [
    "entry = json.loads(scanned_result)[\"vc\"][\"credentialSubject\"][\"fhirBundle\"][\"entry\"]\n",
    "for item in entry:\n",
    "    print(json.dumps(item, indent = 4 ))\n"
   ]
  },
  {
   "cell_type": "code",
   "execution_count": null,
   "metadata": {},
   "outputs": [],
   "source": []
  },
  {
   "cell_type": "code",
   "execution_count": null,
   "metadata": {},
   "outputs": [],
   "source": []
  },
  {
   "cell_type": "code",
   "execution_count": null,
   "metadata": {},
   "outputs": [],
   "source": []
  }
 ],
 "metadata": {
  "interpreter": {
   "hash": "7cf3cfb4d2a53586223bf4603cd7f9e645cf44a77dbcec96182c9a81e54296ad"
  },
  "kernelspec": {
   "display_name": "Python 3.9.9 64-bit (windows store)",
   "name": "python3"
  },
  "language_info": {
   "codemirror_mode": {
    "name": "ipython",
    "version": 3
   },
   "file_extension": ".py",
   "mimetype": "text/x-python",
   "name": "python",
   "nbconvert_exporter": "python",
   "pygments_lexer": "ipython3",
   "version": "3.9.9"
  }
 },
 "nbformat": 4,
 "nbformat_minor": 4
}
