{
 "cells": [
  {
   "cell_type": "markdown",
   "metadata": {},
   "source": [
    "# SMART Health Cards\n",
    "\n",
    "This notebook is designed to give an overview of [SMART Health Cards Framework](https://smarthealth.cards/) and how it works.\n"
   ]
  },
  {
   "cell_type": "markdown",
   "metadata": {},
   "source": [
    "### The FHIR Bundle\n",
    "\n",
    "A SMART Health Card is composed of a [W3C Verifiable Credential](https://w3c.github.io/vc-data-model/), [encoded as a JWT](https://w3c.github.io/vc-data-model/#jwt-encoding), with a Credential Subject that contains the FHIR version and a FHIR Bundle (See [Modeling W3C Verifiable Credentials in FHIR](https://smarthealth.cards/credential-modeling/).\n",
    "\n",
    "The FHIR Bundle contains the health care information.\n",
    "\n",
    "Let's assume we have the below FHIR Bundle ([Example 0](https://smarthealth.cards/examples/example-00-a-fhirBundle.json) at the time of writing). This FHIR Bundle could be produced in a number of ways, but for now let's imagine that the patient, John B. Anyperson, has just received his second COVID-19 vaccination shot and the healthcare worker entered his information into their system which produced the below in their system."
   ]
  },
  {
   "cell_type": "markdown",
   "metadata": {},
   "source": [
    "## Walkthrough\n",
    "\n",
    "The high level outline is as follows:\n",
    "* FHIR Bundle is created\n",
    "* FHIR Bundle is minified\n",
    "* SMART Health Card is created from FHIR Bundle\n",
    "* SMART Health Card is encoded as a JWS\n",
    "* Patient Retrieves the SMART Health Cards via:\n",
    "  * File Download\n",
    "  * QR Code\n",
    "  * FHIR API"
   ]
  },
  {
   "cell_type": "code",
   "execution_count": 87,
   "metadata": {},
   "outputs": [],
   "source": [
    "import json\n",
    "from datetime import datetime\n",
    "import zlib\n",
    "import math\n",
    "\n",
    "from pyzbar.pyzbar import decode\n",
    "from PIL import Image\n",
    "import qrcode\n",
    "from jwcrypto import jwk as jwk_crypto\n",
    "from jose import jws, jwk\n",
    "from jose.constants import ALGORITHMS\n",
    "\n"
   ]
  },
  {
   "cell_type": "code",
   "execution_count": 88,
   "metadata": {},
   "outputs": [],
   "source": [
    "\n",
    "fhir_bundle = {\n",
    "  \"resourceType\": \"Bundle\",\n",
    "  \"type\": \"collection\",\n",
    "  \"entry\": [\n",
    "    {\n",
    "      \"fullUrl\": \"resource:0\",\n",
    "      \"resource\": {\n",
    "        \"resourceType\": \"Patient\",\n",
    "        \"name\": [\n",
    "          {\n",
    "            \"family\": \"Henry\",\n",
    "            \"given\": [\n",
    "              \"Jefferson\",\n",
    "              \"V.\"\n",
    "            ]\n",
    "          }\n",
    "        ],\n",
    "        \"birthDate\": \"1997-10-11\"\n",
    "      }\n",
    "    },\n",
    "    {\n",
    "      \"fullUrl\": \"resource:1\",\n",
    "      \"resource\": {\n",
    "        \"resourceType\": \"Immunization\",\n",
    "        \"status\": \"completed\",\n",
    "        \"vaccineCode\": {\n",
    "          \"coding\": [\n",
    "            {\n",
    "              \"system\": \"http://hl7.org/fhir/sid/cvx\",\n",
    "              \"code\": \"999\",\n",
    "              \"display\": \"Huge penis vaccine\"\n",
    "            }\n",
    "          ]\n",
    "        },\n",
    "        \"patient\": {\n",
    "          \"reference\": \"resource:0\"\n",
    "        },\n",
    "        \"occurrenceDateTime\": \"2021-12-17\",\n",
    "        \"performer\": [\n",
    "          {\n",
    "            \"actor\": {\n",
    "              \"display\": \"Intra Gaming Vaccination Program\"\n",
    "            }\n",
    "          }\n",
    "        ],\n",
    "        \"lotNumber\": \"0042069\"\n",
    "      }\n",
    "    }\n",
    "  ]\n",
    "}\n",
    "# print(fhir_bundle)"
   ]
  },
  {
   "cell_type": "markdown",
   "metadata": {},
   "source": [
    "A couple things to note in the above JSON. This is a Bundle that contains 3 resources: one for the patient, one for the first vaccination, and another for the second vaccination. This Bundle conforms to the requirements laid out in [SMART Health Cards: Vaccination & Testing Implementation Guide](http://build.fhir.org/ig/dvci/vaccine-credential-ig/branches/main/) which defines what resources should be included in the Health Card. Specifically, this is an example of [Vaccine Credential Bundle - Data Minimization](http://build.fhir.org/ig/dvci/vaccine-credential-ig/branches/main/StructureDefinition-vaccine-credential-bundle-dm.html). We'll talk about what \"Data Minimization\" means in a second.\n",
    "\n",
    "Now let's create the \"Expanded Health Card\"."
   ]
  },
  {
   "cell_type": "markdown",
   "metadata": {},
   "source": [
    "### Expanded Health Card\n",
    "\n",
    "The Expanded Health Card shows what the Health Card looks like before it is minified and serialized using the compact JWS serialization.\n",
    "\n",
    "[Health Cards are encoded as Compact Serialization JSON Web Signatures (JWS)](https://smarthealth.cards/#health-cards-are-encoded-as-compact-serialization-json-web-signatures-jws) and [Modeling W3C Verifiable Credentials in FHIR](https://smarthealth.cards/credential-modeling/) cover this in more detail.\n",
    "\n",
    "Before we get into the details it's important to note that some of the VC properties are mapped to standard JWT fields when using the [JWT encoding](https://w3c.github.io/vc-data-model/#jwt-encoding) (which we are). These include the `iss` and `nbf` fields.\n",
    "\n",
    "Below shows the expanded Health Card for the example:"
   ]
  },
  {
   "cell_type": "code",
   "execution_count": 89,
   "metadata": {},
   "outputs": [
    {
     "name": "stdout",
     "output_type": "stream",
     "text": [
      "{'iss': 'https://vaccination.danleonard.us/', 'nbf': 1641010903.204389, 'vc': {'@context': ['https://www.w3.org/2018/credentials/v1'], 'type': ['VerifiableCredential', 'https://smarthealth.cards#health-card', 'https://smarthealth.cards#immunization', 'https://smarthealth.cards#covid19'], 'credentialSubject': {'fhirVersion': '4.0.1', 'fhirBundle': {'resourceType': 'Bundle', 'type': 'collection', 'entry': [{'fullUrl': 'resource:0', 'resource': {'resourceType': 'Patient', 'name': [{'family': 'Henry', 'given': ['Jefferson', 'V.']}], 'birthDate': '1997-10-11'}}, {'fullUrl': 'resource:1', 'resource': {'resourceType': 'Immunization', 'status': 'completed', 'vaccineCode': {'coding': [{'system': 'http://hl7.org/fhir/sid/cvx', 'code': '999', 'display': 'Huge penis vaccine'}]}, 'patient': {'reference': 'resource:0'}, 'occurrenceDateTime': '2021-12-17', 'performer': [{'actor': {'display': 'Intra Gaming Vaccination Program'}}], 'lotNumber': '0042069'}}]}}}}\n"
     ]
    }
   ],
   "source": [
    "expanded_health_card = {\n",
    "  \"iss\": \"https://vaccination.incel.us/\",\n",
    "  \"nbf\": datetime.utcnow().timestamp(),\n",
    "  \"vc\": {\n",
    "    \"@context\": [\n",
    "      \"https://www.w3.org/2018/credentials/v1\"\n",
    "    ],\n",
    "    \"type\": [\n",
    "      \"VerifiableCredential\",\n",
    "      \"https://smarthealth.cards#health-card\",\n",
    "      \"https://smarthealth.cards#immunization\"\n",
    "    ],\n",
    "    \"credentialSubject\": {\n",
    "        \"fhirVersion\": \"4.0.1\",\n",
    "        \"fhirBundle\": fhir_bundle\n",
    "    }\n",
    "  }\n",
    "}\n",
    "print(expanded_health_card)"
   ]
  },
  {
   "cell_type": "markdown",
   "metadata": {},
   "source": [
    "Let's talk about the three root fields:\n",
    "\n",
    "`iss` - This represents the [Issuer](https://w3c.github.io/vc-data-model/#issuer)\n",
    "  * Note this property is represented by `iss` according to the [JWT Encoding Rules](https://w3c.github.io/vc-data-model/#jwt-encoding)\n",
    "\n",
    "`nbf` - This represents the [IssuanceDate](https://w3c.github.io/vc-data-model/#issuance-date)\n",
    "  * Note this property is represented by `nbf`.\n",
    "\n",
    "`vc` - This represents the VC claim minus all the unmapped fields (`iss` and `nbf`)\n",
    "\n",
    "\n",
    "TODO: Fill out the rest of these properties"
   ]
  },
  {
   "cell_type": "markdown",
   "metadata": {},
   "source": [
    "### Health Cards are Small\n",
    "\n",
    "SMART Health Cards can be issued on pieces of paper via QR Codes. This introduces some unique size constraints in order to keep the number and size of QR codes manageable. When using and applying SMART Health Cards, it's important to keep them small.\n",
    "\n",
    "The SMART Health Card spec requires that [the JWS payload is minified and compressed](https://smarthealth.cards/#health-cards-are-small) in order to reduce payload size.\n",
    "\n",
    "SMART Health Cards are designed to be be atomic and shared as a whole. Information within the Health Card cannot be removed without affecting the verifiability of the Health Card. This imposes a privacy challenge when too much information is included in a single Health Card.\n",
    "\n",
    "The \"Data Minimization\" profiles in the IG are designed to address these size and privacy concerns by ensuring the FHIR profiles only require the minimal set of information to achieve the desired results.\n",
    "\n",
    "Below the JWS Payload (i.e. the \"Expanded Health Card\") is compressed according to the spec:"
   ]
  },
  {
   "cell_type": "code",
   "execution_count": 90,
   "metadata": {},
   "outputs": [
    {
     "name": "stdout",
     "output_type": "stream",
     "text": [
      "{\"iss\":\"https://vaccination.danleonard.us/\",\"nbf\":1641010903.204389,\"vc\":{\"@context\":[\"https://www.w3.org/2018/credentials/v1\"],\"type\":[\"VerifiableCredential\",\"https://smarthealth.cards#health-card\",\"https://smarthealth.cards#immunization\",\"https://smarthealth.cards#covid19\"],\"credentialSubject\":{\"fhirVersion\":\"4.0.1\",\"fhirBundle\":{\"resourceType\":\"Bundle\",\"type\":\"collection\",\"entry\":[{\"fullUrl\":\"resource:0\",\"resource\":{\"resourceType\":\"Patient\",\"name\":[{\"family\":\"Henry\",\"given\":[\"Jefferson\",\"V.\"]}],\"birthDate\":\"1997-10-11\"}},{\"fullUrl\":\"resource:1\",\"resource\":{\"resourceType\":\"Immunization\",\"status\":\"completed\",\"vaccineCode\":{\"coding\":[{\"system\":\"http://hl7.org/fhir/sid/cvx\",\"code\":\"999\",\"display\":\"Huge penis vaccine\"}]},\"patient\":{\"reference\":\"resource:0\"},\"occurrenceDateTime\":\"2021-12-17\",\"performer\":[{\"actor\":{\"display\":\"Intra Gaming Vaccination Program\"}}],\"lotNumber\":\"0042069\"}}]}}}}\n"
     ]
    }
   ],
   "source": [
    "# Remove the optional whitespace\n",
    "no_white_space_health_card = json.dumps(expanded_health_card, separators=(',', ':'))\n",
    "print(no_white_space_health_card)"
   ]
  },
  {
   "cell_type": "code",
   "execution_count": 91,
   "metadata": {},
   "outputs": [
    {
     "name": "stdout",
     "output_type": "stream",
     "text": [
      "b\"}\\x93A\\x8f\\xda0\\x10\\x85\\xff\\n\\x9a^Cb\\x07\\xb4lr\\xaa\\xba\\x95\\xda\\xed\\xa1Z\\xa9[.\\x15\\x07\\xe3L\\x82+\\xc7\\x8el',]\\xf1\\xdf;6\\xb0\\xb4\\xd2\\nn\\x83\\xc7\\xdf\\xbc\\xf7\\xc6y\\x05\\xe5=\\xd4\\xb0\\x0ba\\xf0uQLBJeDP\\xd6\\xe4\\x8d0\\x1a\\xad\\x11\\xae\\xc9G_@\\x06f\\xdbB\\xcd\\xef\\x96\\x9cqV\\xb1E^\\xb2\\xe5\\xe2\\xbe\\xca`\\x92P\\xbf\\xc2GiM\\xc0\\x97\\x00\\xf5\\xaf7\\xdc~\\xbf\\xcf\\xf7\\x8b\\xdc\\xba\\xae(\\x19\\xbf/\\xa4\\xc3\\x06MPB\\xfbb\\xe2\\xb0\\xc9 \\x1c\\x06\\x8c7\\xd6\\xe8T\\xab\\xc4V\\xe3\\xc3[\\x0f\\x8d\\xbc\\x80|/\\\\\\xd8\\xa1\\xd0a\\x97KR\\xe4?\\x9c\\x8ay,n\\xf6\\xa9\\xbe\\x1f\\x8d\\xfa\\x93,\\xddl\\x94vR\\r\\xaf\\xa2\\xa8\\xab\\xcc\\x1f\\xe3\\xf67\\xca\\x10\\xfd\\xb5;\\xe5H\\xa5\\x8f\\x9c\\x1a\\x969\\xcb9\\xf1\\xe2\\xbf\\x9fF\\xd3h\\x8c=\\x0e\\xbd\\x1d\\x9d\\xc4\\xe7\\xe4\\n\\xce\\x07\\x17\\x97 \\xad\\xd6D;)\\xa1\\x01\\xee@\\xd6\\x89<j\\xfd\\xd3ij\\xb8\\xdc\\xaf\\x195\\\\\\x8aw\\xc0Od\\x87\\xee\\xc7\\x9d\\x88\\x1eO\\x10\\xd1+M<\\xf8\\x8a\\x86\\xb8\\x19tjB\\x13\\xa3\\xfd\\x86mK\\xba\\xd3\\xd0u\\x0e\\x9b#9\\xdc*r\\xffY\\x84\\x08\\xe3U\\xb5\\x9as6\\xe7\\x1c\\x8e\\xc7\\xec]9\\xfc\\xb6\\x9c\\xc7\\xff3\\xf6A\\x84\\xd1'\\xbf\\xfd\\xa01`\\xdc\\xd0\\xe9e\\xe1\\x83m\\x12A\\xdaF\\x99.)\\xf7\\x07\\x1f\\xb0??BZ\\xcdN\\xaf\\xd2\\x8b\\x89\\xd1\\x16^5\\x85\\x9c^\\x08 \\xd3M\\xa8\\xaa\\x8a\\x8aF\\xf9A\\x8bdw\\xecp6\\xa0Q~v\\x1e\\x01\\xc7\\xcd1\\x83\\xe1\\x1cQRK\\xfe\\xd1D\\xe9\\xff&LMV\\xca\\xd1\\xa5\\xa3\\x98\\xc5\\xb3\\x8aYB\\xc9J>\\xe7\\xe5\\x9c\\xafh\\xd0\\x80\\xae\\xb5\\xaeG\\x97\\xa4\\n\\x19\\xac\\x8b\\xc8\\xeb\\xfcGZ\\xa3\\x98}\\xa1\\xf4M7[_?\\x9f\\xd9\\x93\\xb3\\x9d\\x13=eJyk\\x1b\\xbe\\x8f\\xfd6b\\x80\\xb1e\\xc9\\xee\\xaaxp\\xa4\\xdf_\"\n"
     ]
    }
   ],
   "source": [
    "# Normally we'd remove some of the fhirBundle elements at \n",
    "# this step ( e.g. Resource.id, Resource.meta, CodebableConcept.text).\n",
    "# These are already missing from the original payload, so we'll skip that here\n",
    "\n",
    "# Compress the payload with DEFLATE, omitting any zlib headers\n",
    "compress = zlib.compressobj(zlib.Z_DEFAULT_COMPRESSION, zlib.DEFLATED, -15)\n",
    "compressed_payload = compress.compress(no_white_space_health_card.encode('utf-8'))\n",
    "compressed_payload += compress.flush()\n",
    "\n",
    "print(compressed_payload)"
   ]
  },
  {
   "cell_type": "markdown",
   "metadata": {},
   "source": [
    "### Creating the Signed Health Card\n",
    "\n",
    "Now that we have the compressed payload we can sign it as a JWS. First, let's create the key pair for signing and verifying."
   ]
  },
  {
   "cell_type": "code",
   "execution_count": 92,
   "metadata": {},
   "outputs": [],
   "source": [
    "# Use jwcrypto to generate key data\n",
    "key_data = jwk_crypto.JWK.generate(kty='EC', crv='P-256')\n",
    "\n",
    "private_key_data = key_data.export(as_dict=True)"
   ]
  },
  {
   "cell_type": "code",
   "execution_count": null,
   "metadata": {},
   "outputs": [],
   "source": [
    "# Print the entire key store, including the `d` member which contains the private key value\n",
    "# Set export parameter: `private_key=False` to just present the public key\n",
    "# See: https://tools.ietf.org/id/draft-jones-jose-json-private-and-symmetric-key-00.html#rfc.section.3.1.1\n",
    "print(json.dumps(private_key_data, indent=4))"
   ]
  },
  {
   "cell_type": "markdown",
   "metadata": {},
   "source": [
    "With a signing key in hand we can create the JWS:"
   ]
  },
  {
   "cell_type": "code",
   "execution_count": 94,
   "metadata": {
    "scrolled": true
   },
   "outputs": [
    {
     "name": "stdout",
     "output_type": "stream",
     "text": [
      "eyJhbGciOiJFUzI1NiIsImtpZCI6IlQ0bk5OeDFOZDJIaXF5M090eG1aRmRvZEFvWm10VnZLTUxsZ0dKWTJGdGsiLCJ0eXAiOiJKV1QiLCJ6aXAiOiJERUYifQ.fZNBj9owEIX_CppeQ2IHtGxyqrqV2u2hWqlbLhUH40yCK8eObCcsXfHfOzawtNIKboPH37z3xnkF5T3UsAth8HVRTEJKZURQ1uSNMBqtEa7JR19ABmbbQs3vlpxxVrFFXrLl4r7KYJJQv8JHaU3AlwD1rzfcfr_P94vcuq4oGb8vpMMGTVBC-2LisMkgHAaMN9boVKvEVuPDWw-NvIB8L1zYodBhl0tS5D-cinksbvapvh-N-pMs3WyUdlINr6Koq8wf4_Y3yhD9tTvlSKWPnBqWOcs58eK_n0bTaIw9Dr0dncTn5ArOBxeXIK3WRDspoQHuQNaJPGr902lquNyvGTVcinfAT2SH7sediB5PENErTTz4ioa4GXRqQhOj_YZtS7rT0HUOmyM53Cpy_1mECONVtZpzNuccjsfsXTn8tpzH_zP2QYTRJ7_9oDFg3NDpZeGDbRJB2kaZLin3Bx-wPz9CWs1Or9KLidEWXjWFnF4IINNNqKqKikb5QYtkd-xwNqBRfnYeAcfNMYPhHFFSS_7RROn_JkxNVsrRpaOYxbOKWULJSj7n5ZyvaNCArrWuR5ekChmsi8jr_Edao5h9ofRNN1tfP5_Zk7OdEz1lSnlrG76P_TZigLFlye6qeHCk318.OcLGK-1ecJM7CfSIppZemN4weI859PIxPaj1kNbmgpG82x8nFtXX982O4KEPh8cDgQj-Cx0cgT64cjsI0r9p-w\n"
     ]
    }
   ],
   "source": [
    "kid = key_data.thumbprint() # use thumbprint from jwt_cryto.JWK key object as kid\n",
    "\n",
    "key = jwk.construct(private_key_data, algorithm=ALGORITHMS.ES256)\n",
    "jws_token = jws.sign(compressed_payload, key, algorithm=ALGORITHMS.ES256, headers={\"alg\":\"ES256\",\"zip\": \"DEF\", \"kid\":kid})\n",
    "print(jws_token)"
   ]
  },
  {
   "cell_type": "markdown",
   "metadata": {},
   "source": [
    "Now that we have the JWS we should check that we can actually verify the signature"
   ]
  },
  {
   "cell_type": "code",
   "execution_count": 95,
   "metadata": {},
   "outputs": [
    {
     "name": "stdout",
     "output_type": "stream",
     "text": [
      "b\"}\\x93A\\x8f\\xda0\\x10\\x85\\xff\\n\\x9a^Cb\\x07\\xb4lr\\xaa\\xba\\x95\\xda\\xed\\xa1Z\\xa9[.\\x15\\x07\\xe3L\\x82+\\xc7\\x8el',]\\xf1\\xdf;6\\xb0\\xb4\\xd2\\nn\\x83\\xc7\\xdf\\xbc\\xf7\\xc6y\\x05\\xe5=\\xd4\\xb0\\x0ba\\xf0uQLBJeDP\\xd6\\xe4\\x8d0\\x1a\\xad\\x11\\xae\\xc9G_@\\x06f\\xdbB\\xcd\\xef\\x96\\x9cqV\\xb1E^\\xb2\\xe5\\xe2\\xbe\\xca`\\x92P\\xbf\\xc2GiM\\xc0\\x97\\x00\\xf5\\xaf7\\xdc~\\xbf\\xcf\\xf7\\x8b\\xdc\\xba\\xae(\\x19\\xbf/\\xa4\\xc3\\x06MPB\\xfbb\\xe2\\xb0\\xc9 \\x1c\\x06\\x8c7\\xd6\\xe8T\\xab\\xc4V\\xe3\\xc3[\\x0f\\x8d\\xbc\\x80|/\\\\\\xd8\\xa1\\xd0a\\x97KR\\xe4?\\x9c\\x8ay,n\\xf6\\xa9\\xbe\\x1f\\x8d\\xfa\\x93,\\xddl\\x94vR\\r\\xaf\\xa2\\xa8\\xab\\xcc\\x1f\\xe3\\xf67\\xca\\x10\\xfd\\xb5;\\xe5H\\xa5\\x8f\\x9c\\x1a\\x969\\xcb9\\xf1\\xe2\\xbf\\x9fF\\xd3h\\x8c=\\x0e\\xbd\\x1d\\x9d\\xc4\\xe7\\xe4\\n\\xce\\x07\\x17\\x97 \\xad\\xd6D;)\\xa1\\x01\\xee@\\xd6\\x89<j\\xfd\\xd3ij\\xb8\\xdc\\xaf\\x195\\\\\\x8aw\\xc0Od\\x87\\xee\\xc7\\x9d\\x88\\x1eO\\x10\\xd1+M<\\xf8\\x8a\\x86\\xb8\\x19tjB\\x13\\xa3\\xfd\\x86mK\\xba\\xd3\\xd0u\\x0e\\x9b#9\\xdc*r\\xffY\\x84\\x08\\xe3U\\xb5\\x9as6\\xe7\\x1c\\x8e\\xc7\\xec]9\\xfc\\xb6\\x9c\\xc7\\xff3\\xf6A\\x84\\xd1'\\xbf\\xfd\\xa01`\\xdc\\xd0\\xe9e\\xe1\\x83m\\x12A\\xdaF\\x99.)\\xf7\\x07\\x1f\\xb0??BZ\\xcdN\\xaf\\xd2\\x8b\\x89\\xd1\\x16^5\\x85\\x9c^\\x08 \\xd3M\\xa8\\xaa\\x8a\\x8aF\\xf9A\\x8bdw\\xecp6\\xa0Q~v\\x1e\\x01\\xc7\\xcd1\\x83\\xe1\\x1cQRK\\xfe\\xd1D\\xe9\\xff&LMV\\xca\\xd1\\xa5\\xa3\\x98\\xc5\\xb3\\x8aYB\\xc9J>\\xe7\\xe5\\x9c\\xafh\\xd0\\x80\\xae\\xb5\\xaeG\\x97\\xa4\\n\\x19\\xac\\x8b\\xc8\\xeb\\xfcGZ\\xa3\\x98}\\xa1\\xf4M7[_?\\x9f\\xd9\\x93\\xb3\\x9d\\x13=eJyk\\x1b\\xbe\\x8f\\xfd6b\\x80\\xb1e\\xc9\\xee\\xaaxp\\xa4\\xdf_\"\n"
     ]
    }
   ],
   "source": [
    "public_key_data = key_data.export(private_key=False, as_dict=True)\n",
    "print(jws.verify(jws_token, public_key_data, ALGORITHMS.ES256))"
   ]
  },
  {
   "cell_type": "markdown",
   "metadata": {},
   "source": [
    "Now save the signature to `/.well-known/jwks.json`"
   ]
  },
  {
   "cell_type": "code",
   "execution_count": 96,
   "metadata": {},
   "outputs": [
    {
     "name": "stdout",
     "output_type": "stream",
     "text": [
      "{\n",
      "    \"keys\": [\n",
      "        {\n",
      "            \"kty\": \"EC\",\n",
      "            \"crv\": \"P-256\",\n",
      "            \"x\": \"sFUhKeD3F8bbqskcqLHVJygQHT2MD2__plk6TzZYbBA\",\n",
      "            \"y\": \"cf74bJ--krH6C9CSc_5iqeZDAuIu76C0DBAGWV1a52g\",\n",
      "            \"use\": \"sig\",\n",
      "            \"alg\": \"ES256\",\n",
      "            \"kid\": \"T4nNNx1Nd2Hiqy3OtxmZFdodAoZmtVvKMLlgGJY2Ftk\"\n",
      "        }\n",
      "    ]\n",
      "}\n"
     ]
    }
   ],
   "source": [
    "public_key_data[\"use\"] = \"sig\"\n",
    "public_key_data[\"alg\"] = \"ES256\"\n",
    "public_key_data[\"kid\"] = kid\n",
    "keys = { \"keys\" : [ public_key_data ]}\n",
    "\n",
    "out_file = open(\"./.well-known/jwks.json\", \"w\")\n",
    "json.dump(keys, out_file, indent=4)\n",
    "out_file.close()\n",
    "\n",
    "print(json.dumps(keys, indent=4))"
   ]
  },
  {
   "cell_type": "markdown",
   "metadata": {},
   "source": [
    "Let's also create a fake key and test with that to make sure we aren't getting a false positive"
   ]
  },
  {
   "cell_type": "code",
   "execution_count": 97,
   "metadata": {},
   "outputs": [],
   "source": [
    "fake_key_data = jwk_crypto.JWK.generate(kty='EC', crv='P-256')\n",
    "private_fake_key = fake_key_data.export(private_key=False, as_dict=True)\n"
   ]
  },
  {
   "cell_type": "code",
   "execution_count": 98,
   "metadata": {},
   "outputs": [
    {
     "name": "stdout",
     "output_type": "stream",
     "text": [
      "Successful failure.\n"
     ]
    }
   ],
   "source": [
    "# A JWSSignatureError exception will be thrown if signing_key is invalid. \n",
    "try:\n",
    "    jws.verify(jws_token, private_fake_key, ALGORITHMS.ES256)\n",
    "except jws.JWSError:\n",
    "    print(\"Successful failure.\")"
   ]
  },
  {
   "cell_type": "markdown",
   "metadata": {},
   "source": [
    "### QR Code Generation\n",
    "\n",
    "Now that we have a JWS we can turn that into a QR Code which can be scanned. We won't worry about chunking just yet since the payload is below the 1195 character threshold in this example, but its a simple addition and [this code snippet](https://github.com/smart-on-fhir/health-cards/blob/152a4f83b223b5fd14027f765e957e290649f2c0/generate-examples/src/index.ts#L146) goes over the process."
   ]
  },
  {
   "cell_type": "code",
   "execution_count": 99,
   "metadata": {},
   "outputs": [
    {
     "name": "stdout",
     "output_type": "stream",
     "text": [
      "shc:/56762959532654603460292540772804336028702864716745222809286336035362083456232534452329285243250832031203562604523764377345242573426404034165453139407570450355304239292655267060312229035643206034602930410436603122290952432060346029243740446057360157453321611266742428435022676756360528277126757668696841057205594268635331594027070376223011563453225470435727573477527471332830536635270610770675656225083906407020715911274137392429304540373604723833322168712452102937041220216453533670067363677575416925254369316307691030442929367311292752400620637423046977575457695035120773547268076626531173673232263941212200053160703262582720523233125366413073244172352342740033732821113104774466552159630371380823005460656270537352677359003300673270064276405563283369093066681174570750440676592312713973633830423565216842345470081156305065035339522874122369035565543965082069342175564328300642372370676636277236335229352669120305636872337673263941546065572039053827107056556021083524332469393977076066520726433768365934615044457138106939032740346476320806226776500464242234334171456777337254546170577043396511716777275077350536443937291050126623255806332367455626235337292105625245316065062175007435771222427004346912303160552442436142256525072828333333683068306062530836447162550075743368213757654456205457333244355927252538385010373734655029627533417069376752344475533430424031293861106508457673523322206969427237085662225964706011616950245552660859126657373333047157350850456210345524770463386563692610093550394560583125637656096856272262060411013454312630000456542932102257382867674556643307745628110812352875355261046233536458672611057511652571434312110534073024355911542358366100227503545839090754617028036912670074\n"
     ]
    }
   ],
   "source": [
    "token_caracters = list(jws_token)\n",
    "\n",
    "number_pairs = []\n",
    "for char in token_caracters:\n",
    "    int_char = ord(char) - 45\n",
    "    int_pair = [math.floor(int_char/10), int_char % 10] # Need to maintain leading zeros\n",
    "    number_pairs.append(int_pair)  \n",
    "\n",
    "numeric_jws = \"\".join([str(num) for pair in number_pairs for num in pair]) # Flatten nested list in numeric_jws_pairs\n",
    "\n",
    "qr_code_data = 'shc:/' + numeric_jws\n",
    "print(qr_code_data)"
   ]
  },
  {
   "cell_type": "markdown",
   "metadata": {},
   "source": [
    "The above shows what the value of the QR code will be, with the leading `byte` segment and the `numeric` segment following"
   ]
  },
  {
   "cell_type": "code",
   "execution_count": 100,
   "metadata": {},
   "outputs": [
    {
     "data": {
      "image/png": "[encoded data removed]",
      "text/plain": [
       "<PIL.PngImagePlugin.PngImageFile image mode=1 size=1130x1130 at 0x235D55D5B20>"
      ]
     },
     "metadata": {},
     "output_type": "display_data"
    }
   ],
   "source": [
    "from IPython.display import display\n",
    "\n",
    "qr = qrcode.QRCode(\n",
    "    version=22,\n",
    "    error_correction=qrcode.constants.ERROR_CORRECT_L,\n",
    ")\n",
    "qr.add_data(qr_code_data)\n",
    "\n",
    "img = qr.make_image()\n",
    "img.save(\"py_qrcode.png\")\n",
    "\n",
    "display(Image.open(\"py_qrcode.png\"))"
   ]
  },
  {
   "cell_type": "markdown",
   "metadata": {},
   "source": [
    "### QR Code Scanning\n",
    "\n",
    "Now let's try and scan the QR Code!"
   ]
  },
  {
   "cell_type": "code",
   "execution_count": 101,
   "metadata": {},
   "outputs": [
    {
     "name": "stdout",
     "output_type": "stream",
     "text": [
      "Are the QR Codes Equal? True\n",
      "shc:/56762959532654603460292540772804336028702864716745222809286336035362083456232534452329285243250832031203562604523764377345242573426404034165453139407570450355304239292655267060312229035643206034602930410436603122290952432060346029243740446057360157453321611266742428435022676756360528277126757668696841057205594268635331594027070376223011563453225470435727573477527471332830536635270610770675656225083906407020715911274137392429304540373604723833322168712452102937041220216453533670067363677575416925254369316307691030442929367311292752400620637423046977575457695035120773547268076626531173673232263941212200053160703262582720523233125366413073244172352342740033732821113104774466552159630371380823005460656270537352677359003300673270064276405563283369093066681174570750440676592312713973633830423565216842345470081156305065035339522874122369035565543965082069342175564328300642372370676636277236335229352669120305636872337673263941546065572039053827107056556021083524332469393977076066520726433768365934615044457138106939032740346476320806226776500464242234334171456777337254546170577043396511716777275077350536443937291050126623255806332367455626235337292105625245316065062175007435771222427004346912303160552442436142256525072828333333683068306062530836447162550075743368213757654456205457333244355927252538385010373734655029627533417069376752344475533430424031293861106508457673523322206969427237085662225964706011616950245552660859126657373333047157350850456210345524770463386563692610093550394560583125637656096856272262060411013454312630000456542932102257382867674556643307745628110812352875355261046233536458672611057511652571434312110534073024355911542358366100227503545839090754617028036912670074\n"
     ]
    }
   ],
   "source": [
    "image_data = decode(Image.open('py_qrcode.png'))[0][0]\n",
    "scannedQR_data  = image_data.decode()\n",
    "\n",
    "qr_codes_equal = scannedQR_data == qr_code_data\n",
    "\n",
    "print(f\"Are the QR Codes Equal? {qr_codes_equal}\")\n",
    "print(scannedQR_data)"
   ]
  },
  {
   "cell_type": "markdown",
   "metadata": {},
   "source": [
    "### Extracting Data from the QR Code\n",
    "\n",
    "Now let's reverse the process to get the original data back and check the signature. First, let's extract the JWS."
   ]
  },
  {
   "cell_type": "code",
   "execution_count": 102,
   "metadata": {},
   "outputs": [
    {
     "name": "stdout",
     "output_type": "stream",
     "text": [
      "eyJhbGciOiJFUzI1NiIsImtpZCI6IlQ0bk5OeDFOZDJIaXF5M090eG1aRmRvZEFvWm10VnZLTUxsZ0dKWTJGdGsiLCJ0eXAiOiJKV1QiLCJ6aXAiOiJERUYifQ.fZNBj9owEIX_CppeQ2IHtGxyqrqV2u2hWqlbLhUH40yCK8eObCcsXfHfOzawtNIKboPH37z3xnkF5T3UsAth8HVRTEJKZURQ1uSNMBqtEa7JR19ABmbbQs3vlpxxVrFFXrLl4r7KYJJQv8JHaU3AlwD1rzfcfr_P94vcuq4oGb8vpMMGTVBC-2LisMkgHAaMN9boVKvEVuPDWw-NvIB8L1zYodBhl0tS5D-cinksbvapvh-N-pMs3WyUdlINr6Koq8wf4_Y3yhD9tTvlSKWPnBqWOcs58eK_n0bTaIw9Dr0dncTn5ArOBxeXIK3WRDspoQHuQNaJPGr902lquNyvGTVcinfAT2SH7sediB5PENErTTz4ioa4GXRqQhOj_YZtS7rT0HUOmyM53Cpy_1mECONVtZpzNuccjsfsXTn8tpzH_zP2QYTRJ7_9oDFg3NDpZeGDbRJB2kaZLin3Bx-wPz9CWs1Or9KLidEWXjWFnF4IINNNqKqKikb5QYtkd-xwNqBRfnYeAcfNMYPhHFFSS_7RROn_JkxNVsrRpaOYxbOKWULJSj7n5ZyvaNCArrWuR5ekChmsi8jr_Edao5h9ofRNN1tfP5_Zk7OdEz1lSnlrG76P_TZigLFlye6qeHCk318.OcLGK-1ecJM7CfSIppZemN4weI859PIxPaj1kNbmgpG82x8nFtXX982O4KEPh8cDgQj-Cx0cgT64cjsI0r9p-w\n"
     ]
    }
   ],
   "source": [
    "import re\n",
    "\n",
    "numeric_chunk = re.findall('.{1,2}', scannedQR_data[5:])\n",
    "jws_tk = \"\".join([chr(int(x) + 45) for x in numeric_chunk])\n",
    "print(jws_tk)"
   ]
  },
  {
   "cell_type": "markdown",
   "metadata": {},
   "source": [
    "Next we can verify the signature and extract the payload"
   ]
  },
  {
   "cell_type": "code",
   "execution_count": 103,
   "metadata": {},
   "outputs": [
    {
     "name": "stdout",
     "output_type": "stream",
     "text": [
      "{\"iss\":\"https://vaccination.danleonard.us/\",\"nbf\":1641010903.204389,\"vc\":{\"@context\":[\"https://www.w3.org/2018/credentials/v1\"],\"type\":[\"VerifiableCredential\",\"https://smarthealth.cards#health-card\",\"https://smarthealth.cards#immunization\",\"https://smarthealth.cards#covid19\"],\"credentialSubject\":{\"fhirVersion\":\"4.0.1\",\"fhirBundle\":{\"resourceType\":\"Bundle\",\"type\":\"collection\",\"entry\":[{\"fullUrl\":\"resource:0\",\"resource\":{\"resourceType\":\"Patient\",\"name\":[{\"family\":\"Henry\",\"given\":[\"Jefferson\",\"V.\"]}],\"birthDate\":\"1997-10-11\"}},{\"fullUrl\":\"resource:1\",\"resource\":{\"resourceType\":\"Immunization\",\"status\":\"completed\",\"vaccineCode\":{\"coding\":[{\"system\":\"http://hl7.org/fhir/sid/cvx\",\"code\":\"999\",\"display\":\"Huge penis vaccine\"}]},\"patient\":{\"reference\":\"resource:0\"},\"occurrenceDateTime\":\"2021-12-17\",\"performer\":[{\"actor\":{\"display\":\"Intra Gaming Vaccination Program\"}}],\"lotNumber\":\"0042069\"}}]}}}}\n"
     ]
    }
   ],
   "source": [
    "payload = jws.verify(jws_tk, public_key_data, ALGORITHMS.ES256)\n",
    "\n",
    "# https://bugs.python.org/issue5784\n",
    "scanned_result = zlib.decompress(payload, wbits=-15).decode()\n",
    "print(scanned_result)"
   ]
  },
  {
   "cell_type": "markdown",
   "metadata": {},
   "source": [
    "Let's compare this to our original minified payload with whitespace removed"
   ]
  },
  {
   "cell_type": "code",
   "execution_count": 104,
   "metadata": {},
   "outputs": [
    {
     "name": "stdout",
     "output_type": "stream",
     "text": [
      "True\n"
     ]
    }
   ],
   "source": [
    "print(scanned_result == no_white_space_health_card)"
   ]
  },
  {
   "cell_type": "markdown",
   "metadata": {},
   "source": [
    "Finally, lets print the entries for easy inspection."
   ]
  },
  {
   "cell_type": "code",
   "execution_count": 105,
   "metadata": {},
   "outputs": [
    {
     "name": "stdout",
     "output_type": "stream",
     "text": [
      "{\n",
      "    \"fullUrl\": \"resource:0\",\n",
      "    \"resource\": {\n",
      "        \"resourceType\": \"Patient\",\n",
      "        \"name\": [\n",
      "            {\n",
      "                \"family\": \"Henry\",\n",
      "                \"given\": [\n",
      "                    \"Jefferson\",\n",
      "                    \"V.\"\n",
      "                ]\n",
      "            }\n",
      "        ],\n",
      "        \"birthDate\": \"1997-10-11\"\n",
      "    }\n",
      "}\n",
      "{\n",
      "    \"fullUrl\": \"resource:1\",\n",
      "    \"resource\": {\n",
      "        \"resourceType\": \"Immunization\",\n",
      "        \"status\": \"completed\",\n",
      "        \"vaccineCode\": {\n",
      "            \"coding\": [\n",
      "                {\n",
      "                    \"system\": \"http://hl7.org/fhir/sid/cvx\",\n",
      "                    \"code\": \"999\",\n",
      "                    \"display\": \"Huge penis vaccine\"\n",
      "                }\n",
      "            ]\n",
      "        },\n",
      "        \"patient\": {\n",
      "            \"reference\": \"resource:0\"\n",
      "        },\n",
      "        \"occurrenceDateTime\": \"2021-12-17\",\n",
      "        \"performer\": [\n",
      "            {\n",
      "                \"actor\": {\n",
      "                    \"display\": \"Intra Gaming Vaccination Program\"\n",
      "                }\n",
      "            }\n",
      "        ],\n",
      "        \"lotNumber\": \"0042069\"\n",
      "    }\n",
      "}\n"
     ]
    }
   ],
   "source": [
    "entry = json.loads(scanned_result)[\"vc\"][\"credentialSubject\"][\"fhirBundle\"][\"entry\"]\n",
    "for item in entry:\n",
    "    print(json.dumps(item, indent = 4 ))\n"
   ]
  },
  {
   "cell_type": "code",
   "execution_count": null,
   "metadata": {},
   "outputs": [],
   "source": []
  },
  {
   "cell_type": "code",
   "execution_count": null,
   "metadata": {},
   "outputs": [],
   "source": []
  },
  {
   "cell_type": "code",
   "execution_count": null,
   "metadata": {},
   "outputs": [],
   "source": []
  }
 ],
 "metadata": {
  "interpreter": {
   "hash": "7cf3cfb4d2a53586223bf4603cd7f9e645cf44a77dbcec96182c9a81e54296ad"
  },
  "kernelspec": {
   "display_name": "Python 3.9.9 64-bit (windows store)",
   "name": "python3"
  },
  "language_info": {
   "codemirror_mode": {
    "name": "ipython",
    "version": 3
   },
   "file_extension": ".py",
   "mimetype": "text/x-python",
   "name": "python",
   "nbconvert_exporter": "python",
   "pygments_lexer": "ipython3",
   "version": "3.9.9"
  }
 },
 "nbformat": 4,
 "nbformat_minor": 4
}
